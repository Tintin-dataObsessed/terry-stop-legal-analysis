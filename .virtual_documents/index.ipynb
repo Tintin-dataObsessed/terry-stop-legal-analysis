

















#Importing the needed Libraries
import pandas as pd
from sklearn.model_selection import train_test_split
from sklearn.preprocessing import StandardScaler 
from sklearn.linear_model import LogisticRegression
from sklearn.metrics import accuracy_score, roc_curve, roc_auc_score


#Load the data
df = pd.read_csv("Terry_Stops_20250507.csv")


#Look at the dataset
df.head(5)


#Number of rows and columns
df.shape


#Overview of columns
df.info()








#Finding Nulls
df.isna().sum()


#Looking for duplicate rows
df.duplicated().value_counts()


#Convert data types
df['Officer YOB'] = pd.to_datetime(df['Officer YOB'], format='%Y')
df[['Subject ID', 'GO / SC Num' ,'Terry Stop ID']] = df[['Subject ID', 'GO / SC Num' ,'Terry Stop ID']].astype(str)









