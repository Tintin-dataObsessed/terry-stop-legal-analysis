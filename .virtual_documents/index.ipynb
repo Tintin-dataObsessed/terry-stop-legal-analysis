

















#Importing the needed Libraries
import pandas as pd
import matplotlib.pyplot as plt #For visualisations
from sklearn.preprocessing import OneHotEncoder
from sklearn.model_selection import train_test_split
from sklearn.linear_model import LogisticRegression #First model
from sklearn.tree import DecisionTreeClassifier #Second model
from sklearn.metrics import accuracy_score, roc_curve, roc_auc_score #To measure performance


#Load the data
df = pd.read_csv("Terry_Stops_20250507.csv")


#Look at the dataset
df.head(5)


#Number of rows and columns
df.shape


#Overview of columns
df.info()











#Finding Nulls
df.isna().sum()


#Fill in the nulls with N/A
df['Weapon Type'].fillna('NaN', inplace=True)
df['Officer Squad'].fillna('NaN', inplace=True)


#Looking for duplicate rows
df.duplicated().value_counts()





#Convert data types for easy analysis
df['Officer YOB'] = pd.to_datetime(df['Officer YOB'], format='%Y')
df['Reported Date'] = pd.to_datetime(df['Reported Date'])
df[['Subject ID', 'GO / SC Num' ,'Terry Stop ID']] = df[['Subject ID', 'GO / SC Num' ,'Terry Stop ID']].astype(str)


#Overview of updated columns
df.info()


#Clean the categories eg remove spaces and standardize 
df['Subject Age Group'] = df['Subject Age Group'].str.strip()
df['Subject Age Group'] = df['Subject Age Group'].str.replace(' - ', '-', regex=False)


#Clean the classification columns in Frisk Flag
'''
The frisk column will be a classification column and needs to be cleaned to only have Yes and No classifications which are two.
'''
df = df[df['Frisk Flag'] != '-']








# Distribution of Subject Age (using bar instead, because I want to order the columns)
order = ['-', '1-17', '18-25', '26-35', '36-46', '56 and Above']

# Count the frequencies in your DataFrame
age_counts = df['Subject Age Group'].value_counts().reindex(order, fill_value=0)

plt.bar(age_counts.index, age_counts.values, edgecolor='black')
plt.title('Distribution of Subject Age')
plt.xlabel('Subject Age Group')
plt.ylabel('Frequency')
plt.xticks(rotation=45)
plt.tight_layout()
plt.show()


#Overview of the Gender column values
gender_counts = df['Subject Perceived Gender'].value_counts()
gender_counts


#Simplifying and cleaning the gender column
df['Subject Perceived Gender'] = df['Subject Perceived Gender'].replace({'Gender Diverse (gender non-conforming and/or transgender)': 'Gender Diverse','-': 'Unknown','Unable to Determine': 'Unknown','MULTIPLE SUBJECTS': 'Unknown',
})


#Gender Distribution
gender_counts = df['Subject Perceived Gender'].value_counts()

plt.bar(gender_counts.index, gender_counts.values, edgecolor='black')
plt.title('Distribution of Subject Gender')
plt.xlabel('Gender')
plt.ylabel('Frequency')
plt.xticks(rotation=45)
plt.tight_layout()
plt.show()


counts = df['Call Type'].value_counts()
counts





# trend of reports over time
df_trend = df['Reported Date'].dt.to_period('M').value_counts().sort_index()

df_trend.plot(kind='line', marker='o', figsize=(12, 6))
plt.title('Trend of Reports Over Time')
plt.xlabel('Date')
plt.ylabel('Number of Reports')
plt.grid(True)
plt.xticks(rotation=45)
plt.tight_layout()
plt.show()





# Define X and y
X = df[['Subject Age Group', 'Call Type', 'Subject Perceived Gender']]
y = df['Arrest Flag']


# One hot encoding to convert the categories
ohe = OneHotEncoder(sparse=False)
data_coded = df[['Subject Age Group', 'Call Type', 'Subject Perceived Gender']].copy()
data_coded


#Fit the encoded data
X_encoded = ohe.fit_transform(data_coded)


#Find the column names and create a dataframe for the encoded figures
column_names = ohe.get_feature_names_out(data_coded.columns)

encoded_data = pd.DataFrame(X_encoded, columns=column_names)
encoded_data











#Split the data into Train and Test
'''
I chose a test size of 80% for training and a random state of 42.
'''
X_train, X_test, y_train, y_test = train_test_split(encoded_data, y, test_size=0.2, random_state=42)


#Fitting the model
logreg = LogisticRegression(fit_intercept=True, C=1e12, solver='liblinear')
model_log = logreg.fit(X_train, y_train)
model_log


#Predict
y_pred_test = logreg.predict(X_test)


Decition Tree






