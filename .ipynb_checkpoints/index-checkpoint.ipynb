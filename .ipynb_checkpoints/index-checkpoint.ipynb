{
 "cells": [
  {
   "cell_type": "markdown",
   "id": "dd4a3b1a-35c7-4229-83dd-e039a723bfe0",
   "metadata": {},
   "source": [
    "# Terry Stop Legal Analysis and Prediction"
   ]
  },
  {
   "cell_type": "markdown",
   "id": "3b3c4ee8-2775-435d-b121-db26a173f639",
   "metadata": {},
   "source": [
    "## Project Overview"
   ]
  },
  {
   "cell_type": "markdown",
   "id": "54a31aae-0f78-4d4e-9550-8293af618e1f",
   "metadata": {},
   "source": [
    "The goal of this project is to build a machine learning model that predicts whether an arrest was made following a Terry Stop. Using features such as the presence of weapons, the time of day, and other contextual factors recorded during the stop, the model classifies each case as either resulting in an arrest or not.\n",
    "This is a binary classification problem."
   ]
  },
  {
   "cell_type": "markdown",
   "id": "20ba03fa-11c7-4e5f-b08d-6268f658dfa4",
   "metadata": {},
   "source": [
    "## Business Understanding"
   ]
  },
  {
   "cell_type": "markdown",
   "id": "c8ffe393-1362-4548-91b6-f1501eb4d694",
   "metadata": {},
   "source": [
    "By analyzing this data, the project aims to:\n",
    "- Understand which factors most influence the likelihood of an arrest.\n",
    "- Explore patterns or potential biases in Terry Stops.\n",
    "- Demonstrate the use of supervised learning techniques in a real-world legal and social context.\n",
    "\n",
    "\n",
    "Include stakeholder and key business questions"
   ]
  },
  {
   "cell_type": "markdown",
   "id": "a18a7d6f-090f-4c77-94f9-b99ac3dc1917",
   "metadata": {},
   "source": [
    "## Data Understanding\n",
    "Source of data : This data is from the Seattle Police Department"
   ]
  },
  {
   "cell_type": "code",
   "execution_count": 1,
   "id": "072ec724-4978-404a-8bcf-f05d434e9d7b",
   "metadata": {},
   "outputs": [],
   "source": [
    "#Importing the needed Libraries\n",
    "import pandas as pd\n",
    "from sklearn.model_selection import train_test_split\n",
    "from sklearn.preprocessing import StandardScaler \n",
    "from sklearn.linear_model import LogisticRegression\n",
    "from sklearn.metrics import accuracy_score, roc_curve, roc_auc_score"
   ]
  },
  {
   "cell_type": "code",
   "execution_count": 2,
   "id": "291c1a19-c640-40a5-bb2d-2ac158c615d8",
   "metadata": {},
   "outputs": [],
   "source": [
    "#Load the data\n",
    "df = pd.read_csv(\"Terry_Stops_20250507.csv\")"
   ]
  },
  {
   "cell_type": "code",
   "execution_count": 3,
   "id": "15d5b535-4c9c-4fbf-8b1f-22c2812708a2",
   "metadata": {},
   "outputs": [
    {
     "data": {
      "text/html": [
       "<div>\n",
       "<style scoped>\n",
       "    .dataframe tbody tr th:only-of-type {\n",
       "        vertical-align: middle;\n",
       "    }\n",
       "\n",
       "    .dataframe tbody tr th {\n",
       "        vertical-align: top;\n",
       "    }\n",
       "\n",
       "    .dataframe thead th {\n",
       "        text-align: right;\n",
       "    }\n",
       "</style>\n",
       "<table border=\"1\" class=\"dataframe\">\n",
       "  <thead>\n",
       "    <tr style=\"text-align: right;\">\n",
       "      <th></th>\n",
       "      <th>Subject Age Group</th>\n",
       "      <th>Subject ID</th>\n",
       "      <th>GO / SC Num</th>\n",
       "      <th>Terry Stop ID</th>\n",
       "      <th>Stop Resolution</th>\n",
       "      <th>Weapon Type</th>\n",
       "      <th>Officer ID</th>\n",
       "      <th>Officer YOB</th>\n",
       "      <th>Officer Gender</th>\n",
       "      <th>Officer Race</th>\n",
       "      <th>...</th>\n",
       "      <th>Reported Time</th>\n",
       "      <th>Initial Call Type</th>\n",
       "      <th>Final Call Type</th>\n",
       "      <th>Call Type</th>\n",
       "      <th>Officer Squad</th>\n",
       "      <th>Arrest Flag</th>\n",
       "      <th>Frisk Flag</th>\n",
       "      <th>Precinct</th>\n",
       "      <th>Sector</th>\n",
       "      <th>Beat</th>\n",
       "    </tr>\n",
       "  </thead>\n",
       "  <tbody>\n",
       "    <tr>\n",
       "      <th>0</th>\n",
       "      <td>26 - 35</td>\n",
       "      <td>9770358745</td>\n",
       "      <td>20190000313099</td>\n",
       "      <td>9770376049</td>\n",
       "      <td>Field Contact</td>\n",
       "      <td>-</td>\n",
       "      <td>5653</td>\n",
       "      <td>1967</td>\n",
       "      <td>M</td>\n",
       "      <td>Black or African American</td>\n",
       "      <td>...</td>\n",
       "      <td>00:25:27.0000000</td>\n",
       "      <td>SHOPLIFT - THEFT</td>\n",
       "      <td>SUSPICIOUS CIRCUM. - SUSPICIOUS PERSON</td>\n",
       "      <td>ONVIEW</td>\n",
       "      <td>SOUTH PCT 2ND W - ROBERT - PLATOON 2</td>\n",
       "      <td>N</td>\n",
       "      <td>N</td>\n",
       "      <td>-</td>\n",
       "      <td>-</td>\n",
       "      <td>-</td>\n",
       "    </tr>\n",
       "    <tr>\n",
       "      <th>1</th>\n",
       "      <td>26 - 35</td>\n",
       "      <td>-1</td>\n",
       "      <td>20160000282794</td>\n",
       "      <td>180985</td>\n",
       "      <td>Arrest</td>\n",
       "      <td>Handgun</td>\n",
       "      <td>6355</td>\n",
       "      <td>1970</td>\n",
       "      <td>F</td>\n",
       "      <td>White</td>\n",
       "      <td>...</td>\n",
       "      <td>07:09:00.0000000</td>\n",
       "      <td>DISTURBANCE</td>\n",
       "      <td>NARCOTICS - OTHER</td>\n",
       "      <td>911</td>\n",
       "      <td>EAST PCT 1ST W - E/G RELIEF (CHARLIE)</td>\n",
       "      <td>N</td>\n",
       "      <td>N</td>\n",
       "      <td>East</td>\n",
       "      <td>C</td>\n",
       "      <td>C3</td>\n",
       "    </tr>\n",
       "    <tr>\n",
       "      <th>2</th>\n",
       "      <td>26 - 35</td>\n",
       "      <td>-1</td>\n",
       "      <td>20180000002480</td>\n",
       "      <td>438562</td>\n",
       "      <td>Field Contact</td>\n",
       "      <td>NaN</td>\n",
       "      <td>7564</td>\n",
       "      <td>1979</td>\n",
       "      <td>M</td>\n",
       "      <td>Declined to Answer</td>\n",
       "      <td>...</td>\n",
       "      <td>13:50:00.0000000</td>\n",
       "      <td>-</td>\n",
       "      <td>-</td>\n",
       "      <td>-</td>\n",
       "      <td>WEST PCT 2ND W - DAVID BEATS</td>\n",
       "      <td>N</td>\n",
       "      <td>N</td>\n",
       "      <td>-</td>\n",
       "      <td>-</td>\n",
       "      <td>-</td>\n",
       "    </tr>\n",
       "    <tr>\n",
       "      <th>3</th>\n",
       "      <td>36 - 45</td>\n",
       "      <td>-1</td>\n",
       "      <td>20180000065356</td>\n",
       "      <td>392012</td>\n",
       "      <td>Offense Report</td>\n",
       "      <td>NaN</td>\n",
       "      <td>7514</td>\n",
       "      <td>1987</td>\n",
       "      <td>M</td>\n",
       "      <td>White</td>\n",
       "      <td>...</td>\n",
       "      <td>02:09:00.0000000</td>\n",
       "      <td>ROBBERY - CRITICAL (INCLUDES STRONG ARM)</td>\n",
       "      <td>ROBBERY - ARMED</td>\n",
       "      <td>911</td>\n",
       "      <td>NORTH PCT 3RD W - BOY (JOHN) - PLATOON 1</td>\n",
       "      <td>N</td>\n",
       "      <td>N</td>\n",
       "      <td>North</td>\n",
       "      <td>L</td>\n",
       "      <td>L2</td>\n",
       "    </tr>\n",
       "    <tr>\n",
       "      <th>4</th>\n",
       "      <td>56 and Above</td>\n",
       "      <td>-1</td>\n",
       "      <td>20170000004325</td>\n",
       "      <td>309626</td>\n",
       "      <td>Field Contact</td>\n",
       "      <td>NaN</td>\n",
       "      <td>6783</td>\n",
       "      <td>1976</td>\n",
       "      <td>M</td>\n",
       "      <td>White</td>\n",
       "      <td>...</td>\n",
       "      <td>15:00:00.0000000</td>\n",
       "      <td>-</td>\n",
       "      <td>-</td>\n",
       "      <td>-</td>\n",
       "      <td>EAST PCT 2ND W - GEORGE - PLATOON 2</td>\n",
       "      <td>N</td>\n",
       "      <td>N</td>\n",
       "      <td>-</td>\n",
       "      <td>-</td>\n",
       "      <td>-</td>\n",
       "    </tr>\n",
       "  </tbody>\n",
       "</table>\n",
       "<p>5 rows × 23 columns</p>\n",
       "</div>"
      ],
      "text/plain": [
       "  Subject Age Group  Subject ID     GO / SC Num  Terry Stop ID  \\\n",
       "0           26 - 35  9770358745  20190000313099     9770376049   \n",
       "1           26 - 35          -1  20160000282794         180985   \n",
       "2           26 - 35          -1  20180000002480         438562   \n",
       "3           36 - 45          -1  20180000065356         392012   \n",
       "4      56 and Above          -1  20170000004325         309626   \n",
       "\n",
       "  Stop Resolution Weapon Type Officer ID  Officer YOB Officer Gender  \\\n",
       "0   Field Contact           -       5653         1967              M   \n",
       "1          Arrest     Handgun       6355         1970              F   \n",
       "2   Field Contact         NaN       7564         1979              M   \n",
       "3  Offense Report         NaN       7514         1987              M   \n",
       "4   Field Contact         NaN       6783         1976              M   \n",
       "\n",
       "                Officer Race  ...     Reported Time  \\\n",
       "0  Black or African American  ...  00:25:27.0000000   \n",
       "1                      White  ...  07:09:00.0000000   \n",
       "2         Declined to Answer  ...  13:50:00.0000000   \n",
       "3                      White  ...  02:09:00.0000000   \n",
       "4                      White  ...  15:00:00.0000000   \n",
       "\n",
       "                          Initial Call Type  \\\n",
       "0                          SHOPLIFT - THEFT   \n",
       "1                               DISTURBANCE   \n",
       "2                                         -   \n",
       "3  ROBBERY - CRITICAL (INCLUDES STRONG ARM)   \n",
       "4                                         -   \n",
       "\n",
       "                          Final Call Type Call Type  \\\n",
       "0  SUSPICIOUS CIRCUM. - SUSPICIOUS PERSON    ONVIEW   \n",
       "1                       NARCOTICS - OTHER       911   \n",
       "2                                       -         -   \n",
       "3                         ROBBERY - ARMED       911   \n",
       "4                                       -         -   \n",
       "\n",
       "                              Officer Squad Arrest Flag Frisk Flag Precinct  \\\n",
       "0      SOUTH PCT 2ND W - ROBERT - PLATOON 2           N          N        -   \n",
       "1     EAST PCT 1ST W - E/G RELIEF (CHARLIE)           N          N     East   \n",
       "2              WEST PCT 2ND W - DAVID BEATS           N          N        -   \n",
       "3  NORTH PCT 3RD W - BOY (JOHN) - PLATOON 1           N          N    North   \n",
       "4       EAST PCT 2ND W - GEORGE - PLATOON 2           N          N        -   \n",
       "\n",
       "  Sector Beat  \n",
       "0      -    -  \n",
       "1      C   C3  \n",
       "2      -    -  \n",
       "3      L   L2  \n",
       "4      -    -  \n",
       "\n",
       "[5 rows x 23 columns]"
      ]
     },
     "execution_count": 3,
     "metadata": {},
     "output_type": "execute_result"
    }
   ],
   "source": [
    "#Look at the dataset\n",
    "df.head(5)"
   ]
  },
  {
   "cell_type": "code",
   "execution_count": 4,
   "id": "6cdda3a0-67b7-4bfc-9a65-662085ea631d",
   "metadata": {},
   "outputs": [
    {
     "data": {
      "text/plain": [
       "(63462, 23)"
      ]
     },
     "execution_count": 4,
     "metadata": {},
     "output_type": "execute_result"
    }
   ],
   "source": [
    "#Number of rows and columns\n",
    "df.shape"
   ]
  },
  {
   "cell_type": "code",
   "execution_count": 5,
   "id": "ec1ca37f-2723-4f00-ba47-a2586516a666",
   "metadata": {},
   "outputs": [
    {
     "name": "stdout",
     "output_type": "stream",
     "text": [
      "<class 'pandas.core.frame.DataFrame'>\n",
      "RangeIndex: 63462 entries, 0 to 63461\n",
      "Data columns (total 23 columns):\n",
      " #   Column                    Non-Null Count  Dtype \n",
      "---  ------                    --------------  ----- \n",
      " 0   Subject Age Group         63462 non-null  object\n",
      " 1   Subject ID                63462 non-null  int64 \n",
      " 2   GO / SC Num               63462 non-null  int64 \n",
      " 3   Terry Stop ID             63462 non-null  int64 \n",
      " 4   Stop Resolution           63462 non-null  object\n",
      " 5   Weapon Type               30897 non-null  object\n",
      " 6   Officer ID                63462 non-null  object\n",
      " 7   Officer YOB               63462 non-null  int64 \n",
      " 8   Officer Gender            63462 non-null  object\n",
      " 9   Officer Race              63462 non-null  object\n",
      " 10  Subject Perceived Race    63462 non-null  object\n",
      " 11  Subject Perceived Gender  63462 non-null  object\n",
      " 12  Reported Date             63462 non-null  object\n",
      " 13  Reported Time             63462 non-null  object\n",
      " 14  Initial Call Type         63462 non-null  object\n",
      " 15  Final Call Type           63462 non-null  object\n",
      " 16  Call Type                 63462 non-null  object\n",
      " 17  Officer Squad             62901 non-null  object\n",
      " 18  Arrest Flag               63462 non-null  object\n",
      " 19  Frisk Flag                63462 non-null  object\n",
      " 20  Precinct                  63462 non-null  object\n",
      " 21  Sector                    63462 non-null  object\n",
      " 22  Beat                      63462 non-null  object\n",
      "dtypes: int64(4), object(19)\n",
      "memory usage: 11.1+ MB\n"
     ]
    }
   ],
   "source": [
    "#Overview of columns\n",
    "df.info()"
   ]
  },
  {
   "cell_type": "markdown",
   "id": "6331e6b5-8ee8-48a2-87f0-52b6a73f80c2",
   "metadata": {},
   "source": [
    "Description of data: The dataset contains 5,000 records with 8 categorical features, such as 'Arrest Made' (Yes/No). Most data types are objects, with only one date at  Officer YOB and three other IDs."
   ]
  },
  {
   "cell_type": "markdown",
   "id": "7fa6e246-4ef6-445d-b5d1-c07b6d9a71d3",
   "metadata": {},
   "source": [
    "## Data Preparation\n",
    "First, I will check for Nulls, duplicate rows and change the Officer YOB type in\n",
    "to a date and the ID columns into strings to help with filtering and parsing.\n"
   ]
  },
  {
   "cell_type": "code",
   "execution_count": 7,
   "id": "2dcd2d83-2098-4038-be20-3af04847974d",
   "metadata": {},
   "outputs": [
    {
     "data": {
      "text/plain": [
       "Subject Age Group               0\n",
       "Subject ID                      0\n",
       "GO / SC Num                     0\n",
       "Terry Stop ID                   0\n",
       "Stop Resolution                 0\n",
       "Weapon Type                 32565\n",
       "Officer ID                      0\n",
       "Officer YOB                     0\n",
       "Officer Gender                  0\n",
       "Officer Race                    0\n",
       "Subject Perceived Race          0\n",
       "Subject Perceived Gender        0\n",
       "Reported Date                   0\n",
       "Reported Time                   0\n",
       "Initial Call Type               0\n",
       "Final Call Type                 0\n",
       "Call Type                       0\n",
       "Officer Squad                 561\n",
       "Arrest Flag                     0\n",
       "Frisk Flag                      0\n",
       "Precinct                        0\n",
       "Sector                          0\n",
       "Beat                            0\n",
       "dtype: int64"
      ]
     },
     "execution_count": 7,
     "metadata": {},
     "output_type": "execute_result"
    }
   ],
   "source": [
    "#Finding Nulls\n",
    "df.isna().sum()"
   ]
  },
  {
   "cell_type": "code",
   "execution_count": 8,
   "id": "0fae7589-23b0-415b-b70b-806202dda575",
   "metadata": {},
   "outputs": [
    {
     "data": {
      "text/plain": [
       "False    63462\n",
       "Name: count, dtype: int64"
      ]
     },
     "execution_count": 8,
     "metadata": {},
     "output_type": "execute_result"
    }
   ],
   "source": [
    "#Looking for duplicate rows\n",
    "df.duplicated().value_counts()"
   ]
  },
  {
   "cell_type": "code",
   "execution_count": 9,
   "id": "49b0e002-2f5a-44d5-b148-c757803af268",
   "metadata": {},
   "outputs": [],
   "source": [
    "#Convert data types\n",
    "df['Officer YOB'] = pd.to_datetime(df['Officer YOB'], format='%Y')\n",
    "df[['Subject ID', 'GO / SC Num' ,'Terry Stop ID']] = df[['Subject ID', 'GO / SC Num' ,'Terry Stop ID']].astype(str)"
   ]
  },
  {
   "cell_type": "code",
   "execution_count": 10,
   "id": "5a7afd64-6838-422c-854f-820ea9caca76",
   "metadata": {},
   "outputs": [
    {
     "name": "stdout",
     "output_type": "stream",
     "text": [
      "<class 'pandas.core.frame.DataFrame'>\n",
      "RangeIndex: 63462 entries, 0 to 63461\n",
      "Data columns (total 23 columns):\n",
      " #   Column                    Non-Null Count  Dtype         \n",
      "---  ------                    --------------  -----         \n",
      " 0   Subject Age Group         63462 non-null  object        \n",
      " 1   Subject ID                63462 non-null  object        \n",
      " 2   GO / SC Num               63462 non-null  object        \n",
      " 3   Terry Stop ID             63462 non-null  object        \n",
      " 4   Stop Resolution           63462 non-null  object        \n",
      " 5   Weapon Type               30897 non-null  object        \n",
      " 6   Officer ID                63462 non-null  object        \n",
      " 7   Officer YOB               63462 non-null  datetime64[ns]\n",
      " 8   Officer Gender            63462 non-null  object        \n",
      " 9   Officer Race              63462 non-null  object        \n",
      " 10  Subject Perceived Race    63462 non-null  object        \n",
      " 11  Subject Perceived Gender  63462 non-null  object        \n",
      " 12  Reported Date             63462 non-null  object        \n",
      " 13  Reported Time             63462 non-null  object        \n",
      " 14  Initial Call Type         63462 non-null  object        \n",
      " 15  Final Call Type           63462 non-null  object        \n",
      " 16  Call Type                 63462 non-null  object        \n",
      " 17  Officer Squad             62901 non-null  object        \n",
      " 18  Arrest Flag               63462 non-null  object        \n",
      " 19  Frisk Flag                63462 non-null  object        \n",
      " 20  Precinct                  63462 non-null  object        \n",
      " 21  Sector                    63462 non-null  object        \n",
      " 22  Beat                      63462 non-null  object        \n",
      "dtypes: datetime64[ns](1), object(22)\n",
      "memory usage: 11.1+ MB\n"
     ]
    }
   ],
   "source": [
    "#Overview of updated columns\n",
    "df.info()"
   ]
  },
  {
   "cell_type": "markdown",
   "id": "b3ea9970-55bf-47a4-bedf-c6e6e2ff87fd",
   "metadata": {},
   "source": [
    "## Modeling"
   ]
  },
  {
   "cell_type": "markdown",
   "id": "f71c6da8-04fe-4f00-8bcd-f593633cc25b",
   "metadata": {},
   "source": [
    "## Evaluation\n",
    "Summary of conclusions including three relevant findings"
   ]
  }
 ],
 "metadata": {
  "kernelspec": {
   "display_name": "learn-env",
   "language": "python",
   "name": "learn-env"
  },
  "language_info": {
   "codemirror_mode": {
    "name": "ipython",
    "version": 3
   },
   "file_extension": ".py",
   "mimetype": "text/x-python",
   "name": "python",
   "nbconvert_exporter": "python",
   "pygments_lexer": "ipython3",
   "version": "3.11.7"
  }
 },
 "nbformat": 4,
 "nbformat_minor": 5
}
