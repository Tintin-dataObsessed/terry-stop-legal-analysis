{
 "cells": [
  {
   "cell_type": "markdown",
   "id": "dd4a3b1a-35c7-4229-83dd-e039a723bfe0",
   "metadata": {},
   "source": [
    "# Terry Stop Legal Analysis and Prediction"
   ]
  },
  {
   "cell_type": "markdown",
   "id": "3b3c4ee8-2775-435d-b121-db26a173f639",
   "metadata": {},
   "source": [
    "## Project Overview"
   ]
  },
  {
   "cell_type": "code",
   "execution_count": null,
   "id": "2524bb3d-8267-45ab-b8f0-dfb43cf55874",
   "metadata": {},
   "outputs": [],
   "source": []
  }
 ],
 "metadata": {
  "kernelspec": {
   "display_name": "learn-env",
   "language": "python",
   "name": "learn-env"
  },
  "language_info": {
   "codemirror_mode": {
    "name": "ipython",
    "version": 3
   },
   "file_extension": ".py",
   "mimetype": "text/x-python",
   "name": "python",
   "nbconvert_exporter": "python",
   "pygments_lexer": "ipython3",
   "version": "3.11.7"
  }
 },
 "nbformat": 4,
 "nbformat_minor": 5
}
