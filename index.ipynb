{
 "cells": [
  {
   "cell_type": "markdown",
   "id": "dd4a3b1a-35c7-4229-83dd-e039a723bfe0",
   "metadata": {},
   "source": [
    "# Terry Stop Legal Analysis and Prediction"
   ]
  },
  {
   "cell_type": "markdown",
   "id": "3b3c4ee8-2775-435d-b121-db26a173f639",
   "metadata": {},
   "source": [
    "## Project Overview"
   ]
  },
  {
   "cell_type": "markdown",
   "id": "54a31aae-0f78-4d4e-9550-8293af618e1f",
   "metadata": {},
   "source": [
    "The goal of this project is to build a machine learning model that predicts whether an arrest was made following a Terry Stop. Using features such as the presence of weapons, the time of day, and other contextual factors recorded during the stop, the model classifies each case as either resulting in an arrest or not.\n",
    "This is a binary classification problem."
   ]
  },
  {
   "cell_type": "markdown",
   "id": "20ba03fa-11c7-4e5f-b08d-6268f658dfa4",
   "metadata": {},
   "source": [
    "## 1. Business Understanding"
   ]
  },
  {
   "cell_type": "markdown",
   "id": "c8ffe393-1362-4548-91b6-f1501eb4d694",
   "metadata": {},
   "source": [
    "By analyzing this data, the project aims to:\n",
    "- Understand whether gender, age, and reason for the stop influence the likelihood of an arrest.\n",
    "- Develop a model that balances accuracy with justice.\n",
    "- Explore patterns or potential biases in Terry Stops.\n",
    "- Understand the bias in Arrests made. \n"
   ]
  },
  {
   "cell_type": "markdown",
   "id": "a18a7d6f-090f-4c77-94f9-b99ac3dc1917",
   "metadata": {},
   "source": [
    "## 2. Data Understanding\n",
    "Source of data : This data is from the Seattle Police Department. This data represents records of police reported stops under Terry v. Ohio, 392 U.S. 1 (1968). Each row represents a unique stop."
   ]
  },
  {
   "cell_type": "code",
   "execution_count": 37,
   "id": "072ec724-4978-404a-8bcf-f05d434e9d7b",
   "metadata": {},
   "outputs": [],
   "source": [
    "#Importing the needed Libraries\n",
    "import pandas as pd\n",
    "import numpy as np\n",
    "import seaborn as sns\n",
    "import matplotlib.pyplot as plt #For visualisations\n",
    "from sklearn.preprocessing import OneHotEncoder\n",
    "from sklearn.model_selection import train_test_split\n",
    "from sklearn.linear_model import LogisticRegression #First model\n",
    "from sklearn.tree import DecisionTreeClassifier #Second model"
   ]
  },
  {
   "cell_type": "code",
   "execution_count": 38,
   "id": "291c1a19-c640-40a5-bb2d-2ac158c615d8",
   "metadata": {},
   "outputs": [],
   "source": [
    "#Load the data\n",
    "df = pd.read_csv(\"Terry_Stops_20250507.csv\")"
   ]
  },
  {
   "cell_type": "code",
   "execution_count": 39,
   "id": "15d5b535-4c9c-4fbf-8b1f-22c2812708a2",
   "metadata": {},
   "outputs": [
    {
     "data": {
      "text/html": [
       "<div>\n",
       "<style scoped>\n",
       "    .dataframe tbody tr th:only-of-type {\n",
       "        vertical-align: middle;\n",
       "    }\n",
       "\n",
       "    .dataframe tbody tr th {\n",
       "        vertical-align: top;\n",
       "    }\n",
       "\n",
       "    .dataframe thead th {\n",
       "        text-align: right;\n",
       "    }\n",
       "</style>\n",
       "<table border=\"1\" class=\"dataframe\">\n",
       "  <thead>\n",
       "    <tr style=\"text-align: right;\">\n",
       "      <th></th>\n",
       "      <th>Subject Age Group</th>\n",
       "      <th>Subject ID</th>\n",
       "      <th>GO / SC Num</th>\n",
       "      <th>Terry Stop ID</th>\n",
       "      <th>Stop Resolution</th>\n",
       "      <th>Weapon Type</th>\n",
       "      <th>Officer ID</th>\n",
       "      <th>Officer YOB</th>\n",
       "      <th>Officer Gender</th>\n",
       "      <th>Officer Race</th>\n",
       "      <th>...</th>\n",
       "      <th>Reported Time</th>\n",
       "      <th>Initial Call Type</th>\n",
       "      <th>Final Call Type</th>\n",
       "      <th>Call Type</th>\n",
       "      <th>Officer Squad</th>\n",
       "      <th>Arrest Flag</th>\n",
       "      <th>Frisk Flag</th>\n",
       "      <th>Precinct</th>\n",
       "      <th>Sector</th>\n",
       "      <th>Beat</th>\n",
       "    </tr>\n",
       "  </thead>\n",
       "  <tbody>\n",
       "    <tr>\n",
       "      <th>0</th>\n",
       "      <td>26 - 35</td>\n",
       "      <td>9770358745</td>\n",
       "      <td>20190000313099</td>\n",
       "      <td>9770376049</td>\n",
       "      <td>Field Contact</td>\n",
       "      <td>-</td>\n",
       "      <td>5653</td>\n",
       "      <td>1967</td>\n",
       "      <td>M</td>\n",
       "      <td>Black or African American</td>\n",
       "      <td>...</td>\n",
       "      <td>00:25:27.0000000</td>\n",
       "      <td>SHOPLIFT - THEFT</td>\n",
       "      <td>SUSPICIOUS CIRCUM. - SUSPICIOUS PERSON</td>\n",
       "      <td>ONVIEW</td>\n",
       "      <td>SOUTH PCT 2ND W - ROBERT - PLATOON 2</td>\n",
       "      <td>N</td>\n",
       "      <td>N</td>\n",
       "      <td>-</td>\n",
       "      <td>-</td>\n",
       "      <td>-</td>\n",
       "    </tr>\n",
       "    <tr>\n",
       "      <th>1</th>\n",
       "      <td>26 - 35</td>\n",
       "      <td>-1</td>\n",
       "      <td>20160000282794</td>\n",
       "      <td>180985</td>\n",
       "      <td>Arrest</td>\n",
       "      <td>Handgun</td>\n",
       "      <td>6355</td>\n",
       "      <td>1970</td>\n",
       "      <td>F</td>\n",
       "      <td>White</td>\n",
       "      <td>...</td>\n",
       "      <td>07:09:00.0000000</td>\n",
       "      <td>DISTURBANCE</td>\n",
       "      <td>NARCOTICS - OTHER</td>\n",
       "      <td>911</td>\n",
       "      <td>EAST PCT 1ST W - E/G RELIEF (CHARLIE)</td>\n",
       "      <td>N</td>\n",
       "      <td>N</td>\n",
       "      <td>East</td>\n",
       "      <td>C</td>\n",
       "      <td>C3</td>\n",
       "    </tr>\n",
       "    <tr>\n",
       "      <th>2</th>\n",
       "      <td>26 - 35</td>\n",
       "      <td>-1</td>\n",
       "      <td>20180000002480</td>\n",
       "      <td>438562</td>\n",
       "      <td>Field Contact</td>\n",
       "      <td>NaN</td>\n",
       "      <td>7564</td>\n",
       "      <td>1979</td>\n",
       "      <td>M</td>\n",
       "      <td>Declined to Answer</td>\n",
       "      <td>...</td>\n",
       "      <td>13:50:00.0000000</td>\n",
       "      <td>-</td>\n",
       "      <td>-</td>\n",
       "      <td>-</td>\n",
       "      <td>WEST PCT 2ND W - DAVID BEATS</td>\n",
       "      <td>N</td>\n",
       "      <td>N</td>\n",
       "      <td>-</td>\n",
       "      <td>-</td>\n",
       "      <td>-</td>\n",
       "    </tr>\n",
       "    <tr>\n",
       "      <th>3</th>\n",
       "      <td>36 - 45</td>\n",
       "      <td>-1</td>\n",
       "      <td>20180000065356</td>\n",
       "      <td>392012</td>\n",
       "      <td>Offense Report</td>\n",
       "      <td>NaN</td>\n",
       "      <td>7514</td>\n",
       "      <td>1987</td>\n",
       "      <td>M</td>\n",
       "      <td>White</td>\n",
       "      <td>...</td>\n",
       "      <td>02:09:00.0000000</td>\n",
       "      <td>ROBBERY - CRITICAL (INCLUDES STRONG ARM)</td>\n",
       "      <td>ROBBERY - ARMED</td>\n",
       "      <td>911</td>\n",
       "      <td>NORTH PCT 3RD W - BOY (JOHN) - PLATOON 1</td>\n",
       "      <td>N</td>\n",
       "      <td>N</td>\n",
       "      <td>North</td>\n",
       "      <td>L</td>\n",
       "      <td>L2</td>\n",
       "    </tr>\n",
       "    <tr>\n",
       "      <th>4</th>\n",
       "      <td>56 and Above</td>\n",
       "      <td>-1</td>\n",
       "      <td>20170000004325</td>\n",
       "      <td>309626</td>\n",
       "      <td>Field Contact</td>\n",
       "      <td>NaN</td>\n",
       "      <td>6783</td>\n",
       "      <td>1976</td>\n",
       "      <td>M</td>\n",
       "      <td>White</td>\n",
       "      <td>...</td>\n",
       "      <td>15:00:00.0000000</td>\n",
       "      <td>-</td>\n",
       "      <td>-</td>\n",
       "      <td>-</td>\n",
       "      <td>EAST PCT 2ND W - GEORGE - PLATOON 2</td>\n",
       "      <td>N</td>\n",
       "      <td>N</td>\n",
       "      <td>-</td>\n",
       "      <td>-</td>\n",
       "      <td>-</td>\n",
       "    </tr>\n",
       "  </tbody>\n",
       "</table>\n",
       "<p>5 rows × 23 columns</p>\n",
       "</div>"
      ],
      "text/plain": [
       "  Subject Age Group  Subject ID     GO / SC Num  Terry Stop ID  \\\n",
       "0           26 - 35  9770358745  20190000313099     9770376049   \n",
       "1           26 - 35          -1  20160000282794         180985   \n",
       "2           26 - 35          -1  20180000002480         438562   \n",
       "3           36 - 45          -1  20180000065356         392012   \n",
       "4      56 and Above          -1  20170000004325         309626   \n",
       "\n",
       "  Stop Resolution Weapon Type Officer ID  Officer YOB Officer Gender  \\\n",
       "0   Field Contact           -       5653         1967              M   \n",
       "1          Arrest     Handgun       6355         1970              F   \n",
       "2   Field Contact         NaN       7564         1979              M   \n",
       "3  Offense Report         NaN       7514         1987              M   \n",
       "4   Field Contact         NaN       6783         1976              M   \n",
       "\n",
       "                Officer Race  ...     Reported Time  \\\n",
       "0  Black or African American  ...  00:25:27.0000000   \n",
       "1                      White  ...  07:09:00.0000000   \n",
       "2         Declined to Answer  ...  13:50:00.0000000   \n",
       "3                      White  ...  02:09:00.0000000   \n",
       "4                      White  ...  15:00:00.0000000   \n",
       "\n",
       "                          Initial Call Type  \\\n",
       "0                          SHOPLIFT - THEFT   \n",
       "1                               DISTURBANCE   \n",
       "2                                         -   \n",
       "3  ROBBERY - CRITICAL (INCLUDES STRONG ARM)   \n",
       "4                                         -   \n",
       "\n",
       "                          Final Call Type Call Type  \\\n",
       "0  SUSPICIOUS CIRCUM. - SUSPICIOUS PERSON    ONVIEW   \n",
       "1                       NARCOTICS - OTHER       911   \n",
       "2                                       -         -   \n",
       "3                         ROBBERY - ARMED       911   \n",
       "4                                       -         -   \n",
       "\n",
       "                              Officer Squad Arrest Flag Frisk Flag Precinct  \\\n",
       "0      SOUTH PCT 2ND W - ROBERT - PLATOON 2           N          N        -   \n",
       "1     EAST PCT 1ST W - E/G RELIEF (CHARLIE)           N          N     East   \n",
       "2              WEST PCT 2ND W - DAVID BEATS           N          N        -   \n",
       "3  NORTH PCT 3RD W - BOY (JOHN) - PLATOON 1           N          N    North   \n",
       "4       EAST PCT 2ND W - GEORGE - PLATOON 2           N          N        -   \n",
       "\n",
       "  Sector Beat  \n",
       "0      -    -  \n",
       "1      C   C3  \n",
       "2      -    -  \n",
       "3      L   L2  \n",
       "4      -    -  \n",
       "\n",
       "[5 rows x 23 columns]"
      ]
     },
     "execution_count": 39,
     "metadata": {},
     "output_type": "execute_result"
    }
   ],
   "source": [
    "#Look at the dataset\n",
    "df.head(5)"
   ]
  },
  {
   "cell_type": "code",
   "execution_count": 40,
   "id": "6cdda3a0-67b7-4bfc-9a65-662085ea631d",
   "metadata": {},
   "outputs": [
    {
     "data": {
      "text/plain": [
       "(63462, 23)"
      ]
     },
     "execution_count": 40,
     "metadata": {},
     "output_type": "execute_result"
    }
   ],
   "source": [
    "#Number of rows and columns\n",
    "df.shape"
   ]
  },
  {
   "cell_type": "code",
   "execution_count": 41,
   "id": "ec1ca37f-2723-4f00-ba47-a2586516a666",
   "metadata": {},
   "outputs": [
    {
     "name": "stdout",
     "output_type": "stream",
     "text": [
      "<class 'pandas.core.frame.DataFrame'>\n",
      "RangeIndex: 63462 entries, 0 to 63461\n",
      "Data columns (total 23 columns):\n",
      " #   Column                    Non-Null Count  Dtype \n",
      "---  ------                    --------------  ----- \n",
      " 0   Subject Age Group         63462 non-null  object\n",
      " 1   Subject ID                63462 non-null  int64 \n",
      " 2   GO / SC Num               63462 non-null  int64 \n",
      " 3   Terry Stop ID             63462 non-null  int64 \n",
      " 4   Stop Resolution           63462 non-null  object\n",
      " 5   Weapon Type               30897 non-null  object\n",
      " 6   Officer ID                63462 non-null  object\n",
      " 7   Officer YOB               63462 non-null  int64 \n",
      " 8   Officer Gender            63462 non-null  object\n",
      " 9   Officer Race              63462 non-null  object\n",
      " 10  Subject Perceived Race    63462 non-null  object\n",
      " 11  Subject Perceived Gender  63462 non-null  object\n",
      " 12  Reported Date             63462 non-null  object\n",
      " 13  Reported Time             63462 non-null  object\n",
      " 14  Initial Call Type         63462 non-null  object\n",
      " 15  Final Call Type           63462 non-null  object\n",
      " 16  Call Type                 63462 non-null  object\n",
      " 17  Officer Squad             62901 non-null  object\n",
      " 18  Arrest Flag               63462 non-null  object\n",
      " 19  Frisk Flag                63462 non-null  object\n",
      " 20  Precinct                  63462 non-null  object\n",
      " 21  Sector                    63462 non-null  object\n",
      " 22  Beat                      63462 non-null  object\n",
      "dtypes: int64(4), object(19)\n",
      "memory usage: 11.1+ MB\n"
     ]
    }
   ],
   "source": [
    "#Overview of columns\n",
    "df.info()"
   ]
  },
  {
   "cell_type": "markdown",
   "id": "6331e6b5-8ee8-48a2-87f0-52b6a73f80c2",
   "metadata": {},
   "source": [
    "Description and Size of data: The dataset contains 5,000 records with 8 categorical features, such as 'Arrest Made' (Yes/No). Most data types are objects, with only one date at  Officer YOB and three other IDs."
   ]
  },
  {
   "cell_type": "markdown",
   "id": "7fa6e246-4ef6-445d-b5d1-c07b6d9a71d3",
   "metadata": {},
   "source": [
    "## 3. Data Preparation\n",
    "The data preparation has 2 parts cleaning and preprocessing for modeling."
   ]
  },
  {
   "cell_type": "markdown",
   "id": "0beb4c27-f301-4e2b-a4bf-9e2ddadaa82d",
   "metadata": {},
   "source": [
    "### Data cleaning\n",
    "First, I will check for Nulls, duplicate rows and change the Officer YOB type in\n",
    "to a date and the ID columns into strings to help with filtering and parsing."
   ]
  },
  {
   "cell_type": "code",
   "execution_count": 42,
   "id": "2dcd2d83-2098-4038-be20-3af04847974d",
   "metadata": {},
   "outputs": [
    {
     "data": {
      "text/plain": [
       "Subject Age Group               0\n",
       "Subject ID                      0\n",
       "GO / SC Num                     0\n",
       "Terry Stop ID                   0\n",
       "Stop Resolution                 0\n",
       "Weapon Type                 32565\n",
       "Officer ID                      0\n",
       "Officer YOB                     0\n",
       "Officer Gender                  0\n",
       "Officer Race                    0\n",
       "Subject Perceived Race          0\n",
       "Subject Perceived Gender        0\n",
       "Reported Date                   0\n",
       "Reported Time                   0\n",
       "Initial Call Type               0\n",
       "Final Call Type                 0\n",
       "Call Type                       0\n",
       "Officer Squad                 561\n",
       "Arrest Flag                     0\n",
       "Frisk Flag                      0\n",
       "Precinct                        0\n",
       "Sector                          0\n",
       "Beat                            0\n",
       "dtype: int64"
      ]
     },
     "execution_count": 42,
     "metadata": {},
     "output_type": "execute_result"
    }
   ],
   "source": [
    "#Finding Nulls\n",
    "df.isna().sum()"
   ]
  },
  {
   "cell_type": "code",
   "execution_count": 43,
   "id": "e322383d-33d3-46c0-a7f6-50d751ce885e",
   "metadata": {},
   "outputs": [],
   "source": [
    "#Fill in the nulls with N/A\n",
    "df['Weapon Type'].fillna('NaN', inplace=True)\n",
    "df['Officer Squad'].fillna('NaN', inplace=True)"
   ]
  },
  {
   "cell_type": "code",
   "execution_count": 44,
   "id": "0fae7589-23b0-415b-b70b-806202dda575",
   "metadata": {},
   "outputs": [
    {
     "data": {
      "text/plain": [
       "False    63462\n",
       "Name: count, dtype: int64"
      ]
     },
     "execution_count": 44,
     "metadata": {},
     "output_type": "execute_result"
    }
   ],
   "source": [
    "#Looking for duplicate rows\n",
    "df.duplicated().value_counts()"
   ]
  },
  {
   "cell_type": "markdown",
   "id": "b0887665-00f9-4670-a5c9-c8a2b7752a0f",
   "metadata": {},
   "source": [
    "There are no duplicate rows"
   ]
  },
  {
   "cell_type": "code",
   "execution_count": 45,
   "id": "49b0e002-2f5a-44d5-b148-c757803af268",
   "metadata": {},
   "outputs": [],
   "source": [
    "#Convert data types for easy analysis\n",
    "df['Officer YOB'] = pd.to_datetime(df['Officer YOB'], format='%Y')\n",
    "df['Reported Date'] = pd.to_datetime(df['Reported Date'])\n",
    "df[['Subject ID', 'GO / SC Num' ,'Terry Stop ID']] = df[['Subject ID', 'GO / SC Num' ,'Terry Stop ID']].astype(str)"
   ]
  },
  {
   "cell_type": "code",
   "execution_count": 46,
   "id": "5a7afd64-6838-422c-854f-820ea9caca76",
   "metadata": {
    "scrolled": true
   },
   "outputs": [
    {
     "name": "stdout",
     "output_type": "stream",
     "text": [
      "<class 'pandas.core.frame.DataFrame'>\n",
      "RangeIndex: 63462 entries, 0 to 63461\n",
      "Data columns (total 23 columns):\n",
      " #   Column                    Non-Null Count  Dtype              \n",
      "---  ------                    --------------  -----              \n",
      " 0   Subject Age Group         63462 non-null  object             \n",
      " 1   Subject ID                63462 non-null  object             \n",
      " 2   GO / SC Num               63462 non-null  object             \n",
      " 3   Terry Stop ID             63462 non-null  object             \n",
      " 4   Stop Resolution           63462 non-null  object             \n",
      " 5   Weapon Type               63462 non-null  object             \n",
      " 6   Officer ID                63462 non-null  object             \n",
      " 7   Officer YOB               63462 non-null  datetime64[ns]     \n",
      " 8   Officer Gender            63462 non-null  object             \n",
      " 9   Officer Race              63462 non-null  object             \n",
      " 10  Subject Perceived Race    63462 non-null  object             \n",
      " 11  Subject Perceived Gender  63462 non-null  object             \n",
      " 12  Reported Date             63462 non-null  datetime64[ns, UTC]\n",
      " 13  Reported Time             63462 non-null  object             \n",
      " 14  Initial Call Type         63462 non-null  object             \n",
      " 15  Final Call Type           63462 non-null  object             \n",
      " 16  Call Type                 63462 non-null  object             \n",
      " 17  Officer Squad             63462 non-null  object             \n",
      " 18  Arrest Flag               63462 non-null  object             \n",
      " 19  Frisk Flag                63462 non-null  object             \n",
      " 20  Precinct                  63462 non-null  object             \n",
      " 21  Sector                    63462 non-null  object             \n",
      " 22  Beat                      63462 non-null  object             \n",
      "dtypes: datetime64[ns, UTC](1), datetime64[ns](1), object(21)\n",
      "memory usage: 11.1+ MB\n"
     ]
    }
   ],
   "source": [
    "#Overview of updated columns\n",
    "df.info()"
   ]
  },
  {
   "cell_type": "code",
   "execution_count": 47,
   "id": "a77050dc-5b8c-4a5e-a0be-b25b837731f7",
   "metadata": {},
   "outputs": [],
   "source": [
    "#Clean the categories eg remove spaces and standardize \n",
    "df['Subject Age Group'] = df['Subject Age Group'].str.strip()\n",
    "df['Subject Age Group'] = df['Subject Age Group'].str.replace(' - ', '-', regex=False)"
   ]
  },
  {
   "cell_type": "code",
   "execution_count": 48,
   "id": "9fdd8320-fa79-4f09-a4f4-e3f95b68272b",
   "metadata": {},
   "outputs": [],
   "source": [
    "#Clean the classification columns in Frisk Flag\n",
    "'''\n",
    "The frisk column will be a classification column and needs to be cleaned to only have Yes and No classifications which are two.\n",
    "'''\n",
    "df = df[df['Frisk Flag'] != '-']"
   ]
  },
  {
   "cell_type": "markdown",
   "id": "9c51d7f4-7a78-425e-85a4-0afe915e6f08",
   "metadata": {},
   "source": [
    "### Detailed Overview of the data"
   ]
  },
  {
   "cell_type": "markdown",
   "id": "715959b1-b4ff-4927-827a-bbf1fa903dc8",
   "metadata": {},
   "source": [
    "I will have a further analysis of specific columns those that will later on be used as selected features, including the age group, and then a look at the trend of reports over time."
   ]
  },
  {
   "cell_type": "code",
   "execution_count": 49,
   "id": "b3648dae-4351-4e44-adc3-cf2bd7a21954",
   "metadata": {},
   "outputs": [
    {
     "data": {
      "image/png": "[encoded data removed]",
      "text/plain": [
       "<Figure size 640x480 with 1 Axes>"
      ]
     },
     "metadata": {},
     "output_type": "display_data"
    }
   ],
   "source": [
    "# Distribution of Subject Age (using bar instead, because I want to order the columns)\n",
    "order = ['-', '1-17', '18-25', '26-35', '36-46', '56 and Above']\n",
    "\n",
    "# Count the frequencies in your DataFrame\n",
    "age_counts = df['Subject Age Group'].value_counts().reindex(order, fill_value=0)\n",
    "\n",
    "plt.bar(age_counts.index, age_counts.values, edgecolor='black')\n",
    "plt.title('Distribution of Subject Age')\n",
    "plt.xlabel('Subject Age Group')\n",
    "plt.ylabel('Frequency')\n",
    "plt.xticks(rotation=45)\n",
    "plt.tight_layout()\n",
    "plt.show()"
   ]
  },
  {
   "cell_type": "code",
   "execution_count": 50,
   "id": "50297dca-21f8-4cc0-be70-c4a80f72e006",
   "metadata": {},
   "outputs": [
    {
     "data": {
      "text/plain": [
       "Subject Perceived Gender\n",
       "Male                                                         49777\n",
       "Female                                                       12514\n",
       "Unable to Determine                                            317\n",
       "-                                                              199\n",
       "Unknown                                                        113\n",
       "Gender Diverse (gender non-conforming and/or transgender)       63\n",
       "MULTIPLE SUBJECTS                                                1\n",
       "Name: count, dtype: int64"
      ]
     },
     "execution_count": 50,
     "metadata": {},
     "output_type": "execute_result"
    }
   ],
   "source": [
    "#Overview of the Gender column values\n",
    "gender_counts = df['Subject Perceived Gender'].value_counts()\n",
    "gender_counts"
   ]
  },
  {
   "cell_type": "code",
   "execution_count": 51,
   "id": "a402dd44-715c-4862-af58-a3f3a5d9129c",
   "metadata": {},
   "outputs": [],
   "source": [
    "#Simplifying and cleaning the gender column\n",
    "df['Subject Perceived Gender'] = df['Subject Perceived Gender'].replace({'Gender Diverse (gender non-conforming and/or transgender)': 'Gender Diverse','-': 'Unknown','Unable to Determine': 'Unknown','MULTIPLE SUBJECTS': 'Unknown',\n",
    "})"
   ]
  },
  {
   "cell_type": "code",
   "execution_count": 52,
   "id": "f984deba-7039-413d-8370-197567d4d649",
   "metadata": {},
   "outputs": [
    {
     "data": {
      "image/png": "[encoded data removed]",
      "text/plain": [
       "<Figure size 640x480 with 1 Axes>"
      ]
     },
     "metadata": {},
     "output_type": "display_data"
    }
   ],
   "source": [
    "#Gender Distribution\n",
    "gender_counts = df['Subject Perceived Gender'].value_counts()\n",
    "\n",
    "plt.bar(gender_counts.index, gender_counts.values, edgecolor='black')\n",
    "plt.title('Distribution of Subject Gender')\n",
    "plt.xlabel('Gender')\n",
    "plt.ylabel('Frequency')\n",
    "plt.xticks(rotation=45)\n",
    "plt.tight_layout()\n",
    "plt.show()"
   ]
  },
  {
   "cell_type": "code",
   "execution_count": 54,
   "id": "c572e610-6ce1-4163-a8a6-603d57372e7c",
   "metadata": {},
   "outputs": [
    {
     "data": {
      "image/png": "[encoded data removed]",
      "text/plain": [
       "<Figure size 640x480 with 1 Axes>"
      ]
     },
     "metadata": {},
     "output_type": "display_data"
    }
   ],
   "source": [
    "#Call Stops Distribution\n",
    "call_counts = df['Call Type'].value_counts()\n",
    "\n",
    "plt.bar(call_counts.index, call_counts.values, edgecolor='black')\n",
    "plt.title('Distribution of Call Types')\n",
    "plt.xlabel('Call Type')\n",
    "plt.ylabel('Frequency')\n",
    "plt.xticks(rotation=45)\n",
    "plt.tight_layout()\n",
    "plt.show()"
   ]
  },
  {
   "cell_type": "code",
   "execution_count": 55,
   "id": "0e92a364-556d-4403-9f37-7ebb53d38c2f",
   "metadata": {},
   "outputs": [
    {
     "name": "stderr",
     "output_type": "stream",
     "text": [
      "C:\\Users\\MichelleChekwooti\\AppData\\Local\\Temp\\ipykernel_17656\\2507407185.py:2: UserWarning: Converting to PeriodArray/Index representation will drop timezone information.\n",
      "  df_trend = df['Reported Date'].dt.to_period('M').value_counts().sort_index()\n"
     ]
    },
    {
     "data": {
      "image/png": "[encoded data removed]",
      "text/plain": [
       "<Figure size 1200x600 with 1 Axes>"
      ]
     },
     "metadata": {},
     "output_type": "display_data"
    }
   ],
   "source": [
    "# trend of reports over time\n",
    "df_trend = df['Reported Date'].dt.to_period('M').value_counts().sort_index()\n",
    "\n",
    "df_trend.plot(kind='line', marker='o', figsize=(12, 6))\n",
    "plt.title('Trend of Reports Over Time')\n",
    "plt.xlabel('Date')\n",
    "plt.ylabel('Number of Reports')\n",
    "plt.grid(True)\n",
    "plt.xticks(rotation=45)\n",
    "plt.tight_layout()\n",
    "plt.show()"
   ]
  },
  {
   "cell_type": "markdown",
   "id": "8c47e48e-5772-4fb6-a503-a158aaf7678c",
   "metadata": {},
   "source": [
    "### Preprocessing\n",
    "I will now choose the X and Y and prepare them , this also includes looking for issues,one hot encoding and imbalance in the dataset."
   ]
  },
  {
   "cell_type": "code",
   "execution_count": 56,
   "id": "8f05a9ea-53e7-4667-82c0-047a96e5b573",
   "metadata": {},
   "outputs": [],
   "source": [
    "#Convert the string values in the Y also.\n",
    "df['Arrest Flag'] = df['Arrest Flag'].map({'N': 0, 'Y': 1})"
   ]
  },
  {
   "cell_type": "code",
   "execution_count": 57,
   "id": "d875ccfe-93a0-4f06-8f2a-9da015841f7c",
   "metadata": {},
   "outputs": [],
   "source": [
    "# Define X and y\n",
    "X = df[['Subject Age Group', 'Call Type', 'Subject Perceived Gender']]\n",
    "y = df['Arrest Flag']"
   ]
  },
  {
   "cell_type": "code",
   "execution_count": 58,
   "id": "fac057af-1e99-4425-8e8b-5f3450d6a6e3",
   "metadata": {},
   "outputs": [
    {
     "data": {
      "text/html": [
       "<div>\n",
       "<style scoped>\n",
       "    .dataframe tbody tr th:only-of-type {\n",
       "        vertical-align: middle;\n",
       "    }\n",
       "\n",
       "    .dataframe tbody tr th {\n",
       "        vertical-align: top;\n",
       "    }\n",
       "\n",
       "    .dataframe thead th {\n",
       "        text-align: right;\n",
       "    }\n",
       "</style>\n",
       "<table border=\"1\" class=\"dataframe\">\n",
       "  <thead>\n",
       "    <tr style=\"text-align: right;\">\n",
       "      <th></th>\n",
       "      <th>Subject Age Group</th>\n",
       "      <th>Call Type</th>\n",
       "      <th>Subject Perceived Gender</th>\n",
       "    </tr>\n",
       "  </thead>\n",
       "  <tbody>\n",
       "    <tr>\n",
       "      <th>0</th>\n",
       "      <td>26-35</td>\n",
       "      <td>ONVIEW</td>\n",
       "      <td>Male</td>\n",
       "    </tr>\n",
       "    <tr>\n",
       "      <th>1</th>\n",
       "      <td>26-35</td>\n",
       "      <td>911</td>\n",
       "      <td>Male</td>\n",
       "    </tr>\n",
       "    <tr>\n",
       "      <th>2</th>\n",
       "      <td>26-35</td>\n",
       "      <td>-</td>\n",
       "      <td>Male</td>\n",
       "    </tr>\n",
       "    <tr>\n",
       "      <th>3</th>\n",
       "      <td>36-45</td>\n",
       "      <td>911</td>\n",
       "      <td>Female</td>\n",
       "    </tr>\n",
       "    <tr>\n",
       "      <th>4</th>\n",
       "      <td>56 and Above</td>\n",
       "      <td>-</td>\n",
       "      <td>Male</td>\n",
       "    </tr>\n",
       "    <tr>\n",
       "      <th>...</th>\n",
       "      <td>...</td>\n",
       "      <td>...</td>\n",
       "      <td>...</td>\n",
       "    </tr>\n",
       "    <tr>\n",
       "      <th>63457</th>\n",
       "      <td>36-45</td>\n",
       "      <td>ONVIEW</td>\n",
       "      <td>Female</td>\n",
       "    </tr>\n",
       "    <tr>\n",
       "      <th>63458</th>\n",
       "      <td>1-17</td>\n",
       "      <td>ONVIEW</td>\n",
       "      <td>Female</td>\n",
       "    </tr>\n",
       "    <tr>\n",
       "      <th>63459</th>\n",
       "      <td>26-35</td>\n",
       "      <td>TELEPHONE OTHER, NOT 911</td>\n",
       "      <td>Male</td>\n",
       "    </tr>\n",
       "    <tr>\n",
       "      <th>63460</th>\n",
       "      <td>-</td>\n",
       "      <td>ONVIEW</td>\n",
       "      <td>Female</td>\n",
       "    </tr>\n",
       "    <tr>\n",
       "      <th>63461</th>\n",
       "      <td>26-35</td>\n",
       "      <td>911</td>\n",
       "      <td>Male</td>\n",
       "    </tr>\n",
       "  </tbody>\n",
       "</table>\n",
       "<p>62984 rows × 3 columns</p>\n",
       "</div>"
      ],
      "text/plain": [
       "      Subject Age Group                 Call Type Subject Perceived Gender\n",
       "0                 26-35                    ONVIEW                     Male\n",
       "1                 26-35                       911                     Male\n",
       "2                 26-35                         -                     Male\n",
       "3                 36-45                       911                   Female\n",
       "4          56 and Above                         -                     Male\n",
       "...                 ...                       ...                      ...\n",
       "63457             36-45                    ONVIEW                   Female\n",
       "63458              1-17                    ONVIEW                   Female\n",
       "63459             26-35  TELEPHONE OTHER, NOT 911                     Male\n",
       "63460                 -                    ONVIEW                   Female\n",
       "63461             26-35                       911                     Male\n",
       "\n",
       "[62984 rows x 3 columns]"
      ]
     },
     "execution_count": 58,
     "metadata": {},
     "output_type": "execute_result"
    }
   ],
   "source": [
    "# One hot encoding to convert the categories\n",
    "ohe = OneHotEncoder(sparse=False)\n",
    "data_coded = X.copy()\n",
    "data_coded"
   ]
  },
  {
   "cell_type": "code",
   "execution_count": 59,
   "id": "a085db86-8e2b-4d21-a8e9-1250346ec03f",
   "metadata": {},
   "outputs": [
    {
     "name": "stderr",
     "output_type": "stream",
     "text": [
      "C:\\Users\\MichelleChekwooti\\anaconda3\\Lib\\site-packages\\sklearn\\preprocessing\\_encoders.py:868: FutureWarning: `sparse` was renamed to `sparse_output` in version 1.2 and will be removed in 1.4. `sparse_output` is ignored unless you leave `sparse` to its default value.\n",
      "  warnings.warn(\n"
     ]
    }
   ],
   "source": [
    "#Fit the encoded data\n",
    "X_encoded = ohe.fit_transform(data_coded)"
   ]
  },
  {
   "cell_type": "code",
   "execution_count": 60,
   "id": "28196106-80b2-480a-b2ba-d486984f3a3b",
   "metadata": {},
   "outputs": [
    {
     "data": {
      "text/html": [
       "<div>\n",
       "<style scoped>\n",
       "    .dataframe tbody tr th:only-of-type {\n",
       "        vertical-align: middle;\n",
       "    }\n",
       "\n",
       "    .dataframe tbody tr th {\n",
       "        vertical-align: top;\n",
       "    }\n",
       "\n",
       "    .dataframe thead th {\n",
       "        text-align: right;\n",
       "    }\n",
       "</style>\n",
       "<table border=\"1\" class=\"dataframe\">\n",
       "  <thead>\n",
       "    <tr style=\"text-align: right;\">\n",
       "      <th></th>\n",
       "      <th>Subject Age Group_-</th>\n",
       "      <th>Subject Age Group_1-17</th>\n",
       "      <th>Subject Age Group_18-25</th>\n",
       "      <th>Subject Age Group_26-35</th>\n",
       "      <th>Subject Age Group_36-45</th>\n",
       "      <th>Subject Age Group_46-55</th>\n",
       "      <th>Subject Age Group_56 and Above</th>\n",
       "      <th>Call Type_-</th>\n",
       "      <th>Call Type_911</th>\n",
       "      <th>Call Type_ALARM CALL (NOT POLICE ALARM)</th>\n",
       "      <th>Call Type_HISTORY CALL (RETRO)</th>\n",
       "      <th>Call Type_ONVIEW</th>\n",
       "      <th>Call Type_SCHEDULED EVENT (RECURRING)</th>\n",
       "      <th>Call Type_TELEPHONE OTHER, NOT 911</th>\n",
       "      <th>Call Type_TEXT MESSAGE</th>\n",
       "      <th>Subject Perceived Gender_Female</th>\n",
       "      <th>Subject Perceived Gender_Gender Diverse</th>\n",
       "      <th>Subject Perceived Gender_Male</th>\n",
       "      <th>Subject Perceived Gender_Unknown</th>\n",
       "    </tr>\n",
       "  </thead>\n",
       "  <tbody>\n",
       "    <tr>\n",
       "      <th>0</th>\n",
       "      <td>0.0</td>\n",
       "      <td>0.0</td>\n",
       "      <td>0.0</td>\n",
       "      <td>1.0</td>\n",
       "      <td>0.0</td>\n",
       "      <td>0.0</td>\n",
       "      <td>0.0</td>\n",
       "      <td>0.0</td>\n",
       "      <td>0.0</td>\n",
       "      <td>0.0</td>\n",
       "      <td>0.0</td>\n",
       "      <td>1.0</td>\n",
       "      <td>0.0</td>\n",
       "      <td>0.0</td>\n",
       "      <td>0.0</td>\n",
       "      <td>0.0</td>\n",
       "      <td>0.0</td>\n",
       "      <td>1.0</td>\n",
       "      <td>0.0</td>\n",
       "    </tr>\n",
       "    <tr>\n",
       "      <th>1</th>\n",
       "      <td>0.0</td>\n",
       "      <td>0.0</td>\n",
       "      <td>0.0</td>\n",
       "      <td>1.0</td>\n",
       "      <td>0.0</td>\n",
       "      <td>0.0</td>\n",
       "      <td>0.0</td>\n",
       "      <td>0.0</td>\n",
       "      <td>1.0</td>\n",
       "      <td>0.0</td>\n",
       "      <td>0.0</td>\n",
       "      <td>0.0</td>\n",
       "      <td>0.0</td>\n",
       "      <td>0.0</td>\n",
       "      <td>0.0</td>\n",
       "      <td>0.0</td>\n",
       "      <td>0.0</td>\n",
       "      <td>1.0</td>\n",
       "      <td>0.0</td>\n",
       "    </tr>\n",
       "    <tr>\n",
       "      <th>2</th>\n",
       "      <td>0.0</td>\n",
       "      <td>0.0</td>\n",
       "      <td>0.0</td>\n",
       "      <td>1.0</td>\n",
       "      <td>0.0</td>\n",
       "      <td>0.0</td>\n",
       "      <td>0.0</td>\n",
       "      <td>1.0</td>\n",
       "      <td>0.0</td>\n",
       "      <td>0.0</td>\n",
       "      <td>0.0</td>\n",
       "      <td>0.0</td>\n",
       "      <td>0.0</td>\n",
       "      <td>0.0</td>\n",
       "      <td>0.0</td>\n",
       "      <td>0.0</td>\n",
       "      <td>0.0</td>\n",
       "      <td>1.0</td>\n",
       "      <td>0.0</td>\n",
       "    </tr>\n",
       "    <tr>\n",
       "      <th>3</th>\n",
       "      <td>0.0</td>\n",
       "      <td>0.0</td>\n",
       "      <td>0.0</td>\n",
       "      <td>0.0</td>\n",
       "      <td>1.0</td>\n",
       "      <td>0.0</td>\n",
       "      <td>0.0</td>\n",
       "      <td>0.0</td>\n",
       "      <td>1.0</td>\n",
       "      <td>0.0</td>\n",
       "      <td>0.0</td>\n",
       "      <td>0.0</td>\n",
       "      <td>0.0</td>\n",
       "      <td>0.0</td>\n",
       "      <td>0.0</td>\n",
       "      <td>1.0</td>\n",
       "      <td>0.0</td>\n",
       "      <td>0.0</td>\n",
       "      <td>0.0</td>\n",
       "    </tr>\n",
       "    <tr>\n",
       "      <th>4</th>\n",
       "      <td>0.0</td>\n",
       "      <td>0.0</td>\n",
       "      <td>0.0</td>\n",
       "      <td>0.0</td>\n",
       "      <td>0.0</td>\n",
       "      <td>0.0</td>\n",
       "      <td>1.0</td>\n",
       "      <td>1.0</td>\n",
       "      <td>0.0</td>\n",
       "      <td>0.0</td>\n",
       "      <td>0.0</td>\n",
       "      <td>0.0</td>\n",
       "      <td>0.0</td>\n",
       "      <td>0.0</td>\n",
       "      <td>0.0</td>\n",
       "      <td>0.0</td>\n",
       "      <td>0.0</td>\n",
       "      <td>1.0</td>\n",
       "      <td>0.0</td>\n",
       "    </tr>\n",
       "    <tr>\n",
       "      <th>...</th>\n",
       "      <td>...</td>\n",
       "      <td>...</td>\n",
       "      <td>...</td>\n",
       "      <td>...</td>\n",
       "      <td>...</td>\n",
       "      <td>...</td>\n",
       "      <td>...</td>\n",
       "      <td>...</td>\n",
       "      <td>...</td>\n",
       "      <td>...</td>\n",
       "      <td>...</td>\n",
       "      <td>...</td>\n",
       "      <td>...</td>\n",
       "      <td>...</td>\n",
       "      <td>...</td>\n",
       "      <td>...</td>\n",
       "      <td>...</td>\n",
       "      <td>...</td>\n",
       "      <td>...</td>\n",
       "    </tr>\n",
       "    <tr>\n",
       "      <th>62979</th>\n",
       "      <td>0.0</td>\n",
       "      <td>0.0</td>\n",
       "      <td>0.0</td>\n",
       "      <td>0.0</td>\n",
       "      <td>1.0</td>\n",
       "      <td>0.0</td>\n",
       "      <td>0.0</td>\n",
       "      <td>0.0</td>\n",
       "      <td>0.0</td>\n",
       "      <td>0.0</td>\n",
       "      <td>0.0</td>\n",
       "      <td>1.0</td>\n",
       "      <td>0.0</td>\n",
       "      <td>0.0</td>\n",
       "      <td>0.0</td>\n",
       "      <td>1.0</td>\n",
       "      <td>0.0</td>\n",
       "      <td>0.0</td>\n",
       "      <td>0.0</td>\n",
       "    </tr>\n",
       "    <tr>\n",
       "      <th>62980</th>\n",
       "      <td>0.0</td>\n",
       "      <td>1.0</td>\n",
       "      <td>0.0</td>\n",
       "      <td>0.0</td>\n",
       "      <td>0.0</td>\n",
       "      <td>0.0</td>\n",
       "      <td>0.0</td>\n",
       "      <td>0.0</td>\n",
       "      <td>0.0</td>\n",
       "      <td>0.0</td>\n",
       "      <td>0.0</td>\n",
       "      <td>1.0</td>\n",
       "      <td>0.0</td>\n",
       "      <td>0.0</td>\n",
       "      <td>0.0</td>\n",
       "      <td>1.0</td>\n",
       "      <td>0.0</td>\n",
       "      <td>0.0</td>\n",
       "      <td>0.0</td>\n",
       "    </tr>\n",
       "    <tr>\n",
       "      <th>62981</th>\n",
       "      <td>0.0</td>\n",
       "      <td>0.0</td>\n",
       "      <td>0.0</td>\n",
       "      <td>1.0</td>\n",
       "      <td>0.0</td>\n",
       "      <td>0.0</td>\n",
       "      <td>0.0</td>\n",
       "      <td>0.0</td>\n",
       "      <td>0.0</td>\n",
       "      <td>0.0</td>\n",
       "      <td>0.0</td>\n",
       "      <td>0.0</td>\n",
       "      <td>0.0</td>\n",
       "      <td>1.0</td>\n",
       "      <td>0.0</td>\n",
       "      <td>0.0</td>\n",
       "      <td>0.0</td>\n",
       "      <td>1.0</td>\n",
       "      <td>0.0</td>\n",
       "    </tr>\n",
       "    <tr>\n",
       "      <th>62982</th>\n",
       "      <td>1.0</td>\n",
       "      <td>0.0</td>\n",
       "      <td>0.0</td>\n",
       "      <td>0.0</td>\n",
       "      <td>0.0</td>\n",
       "      <td>0.0</td>\n",
       "      <td>0.0</td>\n",
       "      <td>0.0</td>\n",
       "      <td>0.0</td>\n",
       "      <td>0.0</td>\n",
       "      <td>0.0</td>\n",
       "      <td>1.0</td>\n",
       "      <td>0.0</td>\n",
       "      <td>0.0</td>\n",
       "      <td>0.0</td>\n",
       "      <td>1.0</td>\n",
       "      <td>0.0</td>\n",
       "      <td>0.0</td>\n",
       "      <td>0.0</td>\n",
       "    </tr>\n",
       "    <tr>\n",
       "      <th>62983</th>\n",
       "      <td>0.0</td>\n",
       "      <td>0.0</td>\n",
       "      <td>0.0</td>\n",
       "      <td>1.0</td>\n",
       "      <td>0.0</td>\n",
       "      <td>0.0</td>\n",
       "      <td>0.0</td>\n",
       "      <td>0.0</td>\n",
       "      <td>1.0</td>\n",
       "      <td>0.0</td>\n",
       "      <td>0.0</td>\n",
       "      <td>0.0</td>\n",
       "      <td>0.0</td>\n",
       "      <td>0.0</td>\n",
       "      <td>0.0</td>\n",
       "      <td>0.0</td>\n",
       "      <td>0.0</td>\n",
       "      <td>1.0</td>\n",
       "      <td>0.0</td>\n",
       "    </tr>\n",
       "  </tbody>\n",
       "</table>\n",
       "<p>62984 rows × 19 columns</p>\n",
       "</div>"
      ],
      "text/plain": [
       "       Subject Age Group_-  Subject Age Group_1-17  Subject Age Group_18-25  \\\n",
       "0                      0.0                     0.0                      0.0   \n",
       "1                      0.0                     0.0                      0.0   \n",
       "2                      0.0                     0.0                      0.0   \n",
       "3                      0.0                     0.0                      0.0   \n",
       "4                      0.0                     0.0                      0.0   \n",
       "...                    ...                     ...                      ...   \n",
       "62979                  0.0                     0.0                      0.0   \n",
       "62980                  0.0                     1.0                      0.0   \n",
       "62981                  0.0                     0.0                      0.0   \n",
       "62982                  1.0                     0.0                      0.0   \n",
       "62983                  0.0                     0.0                      0.0   \n",
       "\n",
       "       Subject Age Group_26-35  Subject Age Group_36-45  \\\n",
       "0                          1.0                      0.0   \n",
       "1                          1.0                      0.0   \n",
       "2                          1.0                      0.0   \n",
       "3                          0.0                      1.0   \n",
       "4                          0.0                      0.0   \n",
       "...                        ...                      ...   \n",
       "62979                      0.0                      1.0   \n",
       "62980                      0.0                      0.0   \n",
       "62981                      1.0                      0.0   \n",
       "62982                      0.0                      0.0   \n",
       "62983                      1.0                      0.0   \n",
       "\n",
       "       Subject Age Group_46-55  Subject Age Group_56 and Above  Call Type_-  \\\n",
       "0                          0.0                             0.0          0.0   \n",
       "1                          0.0                             0.0          0.0   \n",
       "2                          0.0                             0.0          1.0   \n",
       "3                          0.0                             0.0          0.0   \n",
       "4                          0.0                             1.0          1.0   \n",
       "...                        ...                             ...          ...   \n",
       "62979                      0.0                             0.0          0.0   \n",
       "62980                      0.0                             0.0          0.0   \n",
       "62981                      0.0                             0.0          0.0   \n",
       "62982                      0.0                             0.0          0.0   \n",
       "62983                      0.0                             0.0          0.0   \n",
       "\n",
       "       Call Type_911  Call Type_ALARM CALL (NOT POLICE ALARM)  \\\n",
       "0                0.0                                      0.0   \n",
       "1                1.0                                      0.0   \n",
       "2                0.0                                      0.0   \n",
       "3                1.0                                      0.0   \n",
       "4                0.0                                      0.0   \n",
       "...              ...                                      ...   \n",
       "62979            0.0                                      0.0   \n",
       "62980            0.0                                      0.0   \n",
       "62981            0.0                                      0.0   \n",
       "62982            0.0                                      0.0   \n",
       "62983            1.0                                      0.0   \n",
       "\n",
       "       Call Type_HISTORY CALL (RETRO)  Call Type_ONVIEW  \\\n",
       "0                                 0.0               1.0   \n",
       "1                                 0.0               0.0   \n",
       "2                                 0.0               0.0   \n",
       "3                                 0.0               0.0   \n",
       "4                                 0.0               0.0   \n",
       "...                               ...               ...   \n",
       "62979                             0.0               1.0   \n",
       "62980                             0.0               1.0   \n",
       "62981                             0.0               0.0   \n",
       "62982                             0.0               1.0   \n",
       "62983                             0.0               0.0   \n",
       "\n",
       "       Call Type_SCHEDULED EVENT (RECURRING)  \\\n",
       "0                                        0.0   \n",
       "1                                        0.0   \n",
       "2                                        0.0   \n",
       "3                                        0.0   \n",
       "4                                        0.0   \n",
       "...                                      ...   \n",
       "62979                                    0.0   \n",
       "62980                                    0.0   \n",
       "62981                                    0.0   \n",
       "62982                                    0.0   \n",
       "62983                                    0.0   \n",
       "\n",
       "       Call Type_TELEPHONE OTHER, NOT 911  Call Type_TEXT MESSAGE  \\\n",
       "0                                     0.0                     0.0   \n",
       "1                                     0.0                     0.0   \n",
       "2                                     0.0                     0.0   \n",
       "3                                     0.0                     0.0   \n",
       "4                                     0.0                     0.0   \n",
       "...                                   ...                     ...   \n",
       "62979                                 0.0                     0.0   \n",
       "62980                                 0.0                     0.0   \n",
       "62981                                 1.0                     0.0   \n",
       "62982                                 0.0                     0.0   \n",
       "62983                                 0.0                     0.0   \n",
       "\n",
       "       Subject Perceived Gender_Female  \\\n",
       "0                                  0.0   \n",
       "1                                  0.0   \n",
       "2                                  0.0   \n",
       "3                                  1.0   \n",
       "4                                  0.0   \n",
       "...                                ...   \n",
       "62979                              1.0   \n",
       "62980                              1.0   \n",
       "62981                              0.0   \n",
       "62982                              1.0   \n",
       "62983                              0.0   \n",
       "\n",
       "       Subject Perceived Gender_Gender Diverse  Subject Perceived Gender_Male  \\\n",
       "0                                          0.0                            1.0   \n",
       "1                                          0.0                            1.0   \n",
       "2                                          0.0                            1.0   \n",
       "3                                          0.0                            0.0   \n",
       "4                                          0.0                            1.0   \n",
       "...                                        ...                            ...   \n",
       "62979                                      0.0                            0.0   \n",
       "62980                                      0.0                            0.0   \n",
       "62981                                      0.0                            1.0   \n",
       "62982                                      0.0                            0.0   \n",
       "62983                                      0.0                            1.0   \n",
       "\n",
       "       Subject Perceived Gender_Unknown  \n",
       "0                                   0.0  \n",
       "1                                   0.0  \n",
       "2                                   0.0  \n",
       "3                                   0.0  \n",
       "4                                   0.0  \n",
       "...                                 ...  \n",
       "62979                               0.0  \n",
       "62980                               0.0  \n",
       "62981                               0.0  \n",
       "62982                               0.0  \n",
       "62983                               0.0  \n",
       "\n",
       "[62984 rows x 19 columns]"
      ]
     },
     "execution_count": 60,
     "metadata": {},
     "output_type": "execute_result"
    }
   ],
   "source": [
    "#Find the column names and create a dataframe for the encoded figures\n",
    "column_names = ohe.get_feature_names_out(data_coded.columns)\n",
    "\n",
    "X_data = pd.DataFrame(X_encoded, columns=column_names)\n",
    "X_data"
   ]
  },
  {
   "cell_type": "markdown",
   "id": "b3ea9970-55bf-47a4-bedf-c6e6e2ff87fd",
   "metadata": {},
   "source": [
    "## 4. Modeling"
   ]
  },
  {
   "cell_type": "markdown",
   "id": "c4637a0d-dd2b-4f57-83bd-100f594f6b0a",
   "metadata": {},
   "source": [
    "I will be using Logistic Regresstion and Decision tress."
   ]
  },
  {
   "cell_type": "markdown",
   "id": "a2f1d4da-2d49-461a-bed5-465b99de3bc8",
   "metadata": {},
   "source": [
    "Logistic Regresstion\n",
    "\n",
    "I used this model because it is used for binary classification problems, where the outcome has only two possible values such as whether an arrest was made 1 or not 0. The model takes features and estimates the probability of an arrest occurring. Based on this probability, it predicts the outcome as either 0 or 1 which will help understanding patterns in the Terry Stop data."
   ]
  },
  {
   "cell_type": "code",
   "execution_count": 61,
   "id": "a9a9e96f-51ae-4cd6-9ee5-11b636cf1153",
   "metadata": {},
   "outputs": [],
   "source": [
    "#Split the data into Train and Test\n",
    "'''\n",
    "I chose a test size of 80% for training and a random state of 42.\n",
    "'''\n",
    "X_train, X_test, y_train, y_test = train_test_split(X_data, y, test_size=0.2, random_state=42)"
   ]
  },
  {
   "cell_type": "code",
   "execution_count": 62,
   "id": "d8a4e015-72d9-4bcd-a784-a2ff2f206a7c",
   "metadata": {},
   "outputs": [
    {
     "name": "stdout",
     "output_type": "stream",
     "text": [
      "Class distribution \n",
      "Arrest Flag\n",
      "0    0.887987\n",
      "1    0.112013\n",
      "Name: proportion, dtype: float64\n",
      "Class distribution\n",
      "Arrest Flag\n",
      "0    0.886084\n",
      "1    0.113916\n",
      "Name: proportion, dtype: float64\n"
     ]
    }
   ],
   "source": [
    "#Look for class imbalance in the target variable\n",
    "print(\"Class distribution \")\n",
    "print(y_train.value_counts(normalize=True))\n",
    "print(\"Class distribution\")\n",
    "print(y_test.value_counts(normalize=True))"
   ]
  },
  {
   "cell_type": "markdown",
   "id": "e484a066-2cf5-46fa-916c-bd743fb4669b",
   "metadata": {},
   "source": [
    "There is a large imbalance in the dataset with the majority being Not Arrested , 0 and the model will have trouble predicting when they are arrested. I have to reduce this imbalance by adjusting the class weights and using SMOTE to improve performance."
   ]
  },
  {
   "cell_type": "code",
   "execution_count": 63,
   "id": "1fe2e040-d23c-4d08-a957-bdc6ac372949",
   "metadata": {},
   "outputs": [
    {
     "name": "stdout",
     "output_type": "stream",
     "text": [
      "Original class distribution: \n",
      "\n",
      "Arrest Flag\n",
      "0    55905\n",
      "1     7079\n",
      "Name: count, dtype: int64\n",
      "-----------------------------------------\n",
      "Synthetic sample class distribution: \n",
      "\n",
      "Arrest Flag\n",
      "0    44743\n",
      "1    44743\n",
      "Name: count, dtype: int64\n"
     ]
    }
   ],
   "source": [
    "from imblearn.over_sampling import SMOTE\n",
    "\n",
    "print('Original class distribution: \\n')\n",
    "print(y.value_counts())\n",
    "smote = SMOTE()\n",
    "X_train_resampled, y_train_resampled = smote.fit_resample(X_train, y_train) \n",
    "# Preview synthetic sample class distribution\n",
    "print('-----------------------------------------')\n",
    "print('Synthetic sample class distribution: \\n')\n",
    "print(pd.Series(y_train_resampled).value_counts()) "
   ]
  },
  {
   "cell_type": "code",
   "execution_count": 64,
   "id": "9d0617b0-d445-4bbd-a0fb-5c70977357f5",
   "metadata": {},
   "outputs": [
    {
     "data": {
      "text/html": [
       "<style>#sk-container-id-3 {color: black;background-color: white;}#sk-container-id-3 pre{padding: 0;}#sk-container-id-3 div.sk-toggleable {background-color: white;}#sk-container-id-3 label.sk-toggleable__label {cursor: pointer;display: block;width: 100%;margin-bottom: 0;padding: 0.3em;box-sizing: border-box;text-align: center;}#sk-container-id-3 label.sk-toggleable__label-arrow:before {content: \"▸\";float: left;margin-right: 0.25em;color: #696969;}#sk-container-id-3 label.sk-toggleable__label-arrow:hover:before {color: black;}#sk-container-id-3 div.sk-estimator:hover label.sk-toggleable__label-arrow:before {color: black;}#sk-container-id-3 div.sk-toggleable__content {max-height: 0;max-width: 0;overflow: hidden;text-align: left;background-color: #f0f8ff;}#sk-container-id-3 div.sk-toggleable__content pre {margin: 0.2em;color: black;border-radius: 0.25em;background-color: #f0f8ff;}#sk-container-id-3 input.sk-toggleable__control:checked~div.sk-toggleable__content {max-height: 200px;max-width: 100%;overflow: auto;}#sk-container-id-3 input.sk-toggleable__control:checked~label.sk-toggleable__label-arrow:before {content: \"▾\";}#sk-container-id-3 div.sk-estimator input.sk-toggleable__control:checked~label.sk-toggleable__label {background-color: #d4ebff;}#sk-container-id-3 div.sk-label input.sk-toggleable__control:checked~label.sk-toggleable__label {background-color: #d4ebff;}#sk-container-id-3 input.sk-hidden--visually {border: 0;clip: rect(1px 1px 1px 1px);clip: rect(1px, 1px, 1px, 1px);height: 1px;margin: -1px;overflow: hidden;padding: 0;position: absolute;width: 1px;}#sk-container-id-3 div.sk-estimator {font-family: monospace;background-color: #f0f8ff;border: 1px dotted black;border-radius: 0.25em;box-sizing: border-box;margin-bottom: 0.5em;}#sk-container-id-3 div.sk-estimator:hover {background-color: #d4ebff;}#sk-container-id-3 div.sk-parallel-item::after {content: \"\";width: 100%;border-bottom: 1px solid gray;flex-grow: 1;}#sk-container-id-3 div.sk-label:hover label.sk-toggleable__label {background-color: #d4ebff;}#sk-container-id-3 div.sk-serial::before {content: \"\";position: absolute;border-left: 1px solid gray;box-sizing: border-box;top: 0;bottom: 0;left: 50%;z-index: 0;}#sk-container-id-3 div.sk-serial {display: flex;flex-direction: column;align-items: center;background-color: white;padding-right: 0.2em;padding-left: 0.2em;position: relative;}#sk-container-id-3 div.sk-item {position: relative;z-index: 1;}#sk-container-id-3 div.sk-parallel {display: flex;align-items: stretch;justify-content: center;background-color: white;position: relative;}#sk-container-id-3 div.sk-item::before, #sk-container-id-3 div.sk-parallel-item::before {content: \"\";position: absolute;border-left: 1px solid gray;box-sizing: border-box;top: 0;bottom: 0;left: 50%;z-index: -1;}#sk-container-id-3 div.sk-parallel-item {display: flex;flex-direction: column;z-index: 1;position: relative;background-color: white;}#sk-container-id-3 div.sk-parallel-item:first-child::after {align-self: flex-end;width: 50%;}#sk-container-id-3 div.sk-parallel-item:last-child::after {align-self: flex-start;width: 50%;}#sk-container-id-3 div.sk-parallel-item:only-child::after {width: 0;}#sk-container-id-3 div.sk-dashed-wrapped {border: 1px dashed gray;margin: 0 0.4em 0.5em 0.4em;box-sizing: border-box;padding-bottom: 0.4em;background-color: white;}#sk-container-id-3 div.sk-label label {font-family: monospace;font-weight: bold;display: inline-block;line-height: 1.2em;}#sk-container-id-3 div.sk-label-container {text-align: center;}#sk-container-id-3 div.sk-container {/* jupyter's `normalize.less` sets `[hidden] { display: none; }` but bootstrap.min.css set `[hidden] { display: none !important; }` so we also need the `!important` here to be able to override the default hidden behavior on the sphinx rendered scikit-learn.org. See: https://github.com/scikit-learn/scikit-learn/issues/21755 */display: inline-block !important;position: relative;}#sk-container-id-3 div.sk-text-repr-fallback {display: none;}</style><div id=\"sk-container-id-3\" class=\"sk-top-container\"><div class=\"sk-text-repr-fallback\"><pre>LogisticRegression(C=1000000000000.0, class_weight=&#x27;balanced&#x27;,\n",
       "                   solver=&#x27;liblinear&#x27;)</pre><b>In a Jupyter environment, please rerun this cell to show the HTML representation or trust the notebook. <br />On GitHub, the HTML representation is unable to render, please try loading this page with nbviewer.org.</b></div><div class=\"sk-container\" hidden><div class=\"sk-item\"><div class=\"sk-estimator sk-toggleable\"><input class=\"sk-toggleable__control sk-hidden--visually\" id=\"sk-estimator-id-3\" type=\"checkbox\" checked><label for=\"sk-estimator-id-3\" class=\"sk-toggleable__label sk-toggleable__label-arrow\">LogisticRegression</label><div class=\"sk-toggleable__content\"><pre>LogisticRegression(C=1000000000000.0, class_weight=&#x27;balanced&#x27;,\n",
       "                   solver=&#x27;liblinear&#x27;)</pre></div></div></div></div></div>"
      ],
      "text/plain": [
       "LogisticRegression(C=1000000000000.0, class_weight='balanced',\n",
       "                   solver='liblinear')"
      ]
     },
     "execution_count": 64,
     "metadata": {},
     "output_type": "execute_result"
    }
   ],
   "source": [
    "#Fitting the model\n",
    "logreg = LogisticRegression(class_weight='balanced', fit_intercept=True, C=1e12, solver='liblinear')\n",
    "baseline_model = logreg.fit(X_train_resampled, y_train_resampled)\n",
    "baseline_model"
   ]
  },
  {
   "cell_type": "code",
   "execution_count": 65,
   "id": "68cdd9b1-4b66-426b-9d44-162e8cc4e337",
   "metadata": {},
   "outputs": [],
   "source": [
    "#Predict\n",
    "y_pred_test = logreg.predict(X_test)"
   ]
  },
  {
   "cell_type": "code",
   "execution_count": 66,
   "id": "a0f8ad09-9ede-401c-a747-c04cdb9a1897",
   "metadata": {},
   "outputs": [
    {
     "name": "stdout",
     "output_type": "stream",
     "text": [
      "              precision    recall  f1-score   support\n",
      "\n",
      "Not Arrested       0.95      0.42      0.59     11162\n",
      "    Arrested       0.16      0.83      0.26      1435\n",
      "\n",
      "    accuracy                           0.47     12597\n",
      "   macro avg       0.55      0.63      0.43     12597\n",
      "weighted avg       0.86      0.47      0.55     12597\n",
      "\n"
     ]
    }
   ],
   "source": [
    "#Overview of the performance of the model\n",
    "from sklearn.metrics import classification_report\n",
    "\n",
    "\n",
    "report = classification_report(y_test, y_pred_test, target_names=['Not Arrested', 'Arrested'])\n",
    "print(report)"
   ]
  },
  {
   "cell_type": "code",
   "execution_count": 67,
   "id": "ff35b5bf-809c-4740-9938-bba9110f8f5e",
   "metadata": {},
   "outputs": [
    {
     "data": {
      "image/png": "[encoded data removed]",
      "text/plain": [
       "<Figure size 600x400 with 2 Axes>"
      ]
     },
     "metadata": {},
     "output_type": "display_data"
    }
   ],
   "source": [
    "from sklearn.metrics import confusion_matrix\n",
    "import seaborn as sns\n",
    "\n",
    "# created a confusion matrix to overview the results\n",
    "cm = confusion_matrix(y_test, y_pred_test)\n",
    "\n",
    "plt.figure(figsize=(6,4))\n",
    "sns.heatmap(cm, annot=True, fmt='d', cmap='Blues', xticklabels=['Not Arrested', 'Arrested'], yticklabels=['Not Arrested', 'Arrested'])\n",
    "plt.xlabel('Predicted')\n",
    "plt.ylabel('Actual')\n",
    "plt.title('Confusion Matrix')\n",
    "plt.show()"
   ]
  },
  {
   "cell_type": "code",
   "execution_count": 32,
   "id": "8162ff52-7486-4bfc-a45a-c0f4c3980b02",
   "metadata": {},
   "outputs": [
    {
     "data": {
      "text/plain": [
       "'\\nThe performance metrics are quite low even after fixing imbalance,\\nThe precision for Not arrested is 0.95, which shows it is very good at identifying\\nNot Arrested cases but has issue swith Arrested.\\nThe recall for arrested is high at 0.83 so it gets the arrested cases well.\\nHowever the overall Accuracy is low at 0.47, meaning only a few predictions actually match\\nthe actual outcomes. This is likely do to overfitting of the majority class,\\nNot Arrested.\\n'"
      ]
     },
     "execution_count": 32,
     "metadata": {},
     "output_type": "execute_result"
    }
   ],
   "source": [
    "'''\n",
    "The performance metrics are quite low even after fixing imbalance,\n",
    "The precision for Not arrested is 0.95, which shows it is very good at identifying\n",
    "Not Arrested cases but has issue swith Arrested.\n",
    "The recall for arrested is high at 0.83 so it gets the arrested cases well.\n",
    "However the overall Accuracy is low at 0.47, meaning only a few predictions actually match\n",
    "the actual outcomes. This is likely do to overfitting of the majority class,\n",
    "Not Arrested.\n",
    "'''"
   ]
  },
  {
   "cell_type": "markdown",
   "id": "e7774da3-2471-4a42-8029-f2b486f76086",
   "metadata": {},
   "source": [
    "Decition Tree\n",
    "\n",
    "I am using a decition tree for my second model this is because it does not assume\n",
    "a linear relationship and can handle complex pattens. It is also a classification model,\n",
    "and will help evaluate the performace of the baseline model. I can evaluate whether a more flexible,\n",
    "non-linear model improves prediction accuracy "
   ]
  },
  {
   "cell_type": "code",
   "execution_count": 33,
   "id": "52a5578a-5c0e-45bc-9bb9-44f2665a282b",
   "metadata": {},
   "outputs": [
    {
     "data": {
      "text/html": [
       "<style>#sk-container-id-2 {color: black;background-color: white;}#sk-container-id-2 pre{padding: 0;}#sk-container-id-2 div.sk-toggleable {background-color: white;}#sk-container-id-2 label.sk-toggleable__label {cursor: pointer;display: block;width: 100%;margin-bottom: 0;padding: 0.3em;box-sizing: border-box;text-align: center;}#sk-container-id-2 label.sk-toggleable__label-arrow:before {content: \"▸\";float: left;margin-right: 0.25em;color: #696969;}#sk-container-id-2 label.sk-toggleable__label-arrow:hover:before {color: black;}#sk-container-id-2 div.sk-estimator:hover label.sk-toggleable__label-arrow:before {color: black;}#sk-container-id-2 div.sk-toggleable__content {max-height: 0;max-width: 0;overflow: hidden;text-align: left;background-color: #f0f8ff;}#sk-container-id-2 div.sk-toggleable__content pre {margin: 0.2em;color: black;border-radius: 0.25em;background-color: #f0f8ff;}#sk-container-id-2 input.sk-toggleable__control:checked~div.sk-toggleable__content {max-height: 200px;max-width: 100%;overflow: auto;}#sk-container-id-2 input.sk-toggleable__control:checked~label.sk-toggleable__label-arrow:before {content: \"▾\";}#sk-container-id-2 div.sk-estimator input.sk-toggleable__control:checked~label.sk-toggleable__label {background-color: #d4ebff;}#sk-container-id-2 div.sk-label input.sk-toggleable__control:checked~label.sk-toggleable__label {background-color: #d4ebff;}#sk-container-id-2 input.sk-hidden--visually {border: 0;clip: rect(1px 1px 1px 1px);clip: rect(1px, 1px, 1px, 1px);height: 1px;margin: -1px;overflow: hidden;padding: 0;position: absolute;width: 1px;}#sk-container-id-2 div.sk-estimator {font-family: monospace;background-color: #f0f8ff;border: 1px dotted black;border-radius: 0.25em;box-sizing: border-box;margin-bottom: 0.5em;}#sk-container-id-2 div.sk-estimator:hover {background-color: #d4ebff;}#sk-container-id-2 div.sk-parallel-item::after {content: \"\";width: 100%;border-bottom: 1px solid gray;flex-grow: 1;}#sk-container-id-2 div.sk-label:hover label.sk-toggleable__label {background-color: #d4ebff;}#sk-container-id-2 div.sk-serial::before {content: \"\";position: absolute;border-left: 1px solid gray;box-sizing: border-box;top: 0;bottom: 0;left: 50%;z-index: 0;}#sk-container-id-2 div.sk-serial {display: flex;flex-direction: column;align-items: center;background-color: white;padding-right: 0.2em;padding-left: 0.2em;position: relative;}#sk-container-id-2 div.sk-item {position: relative;z-index: 1;}#sk-container-id-2 div.sk-parallel {display: flex;align-items: stretch;justify-content: center;background-color: white;position: relative;}#sk-container-id-2 div.sk-item::before, #sk-container-id-2 div.sk-parallel-item::before {content: \"\";position: absolute;border-left: 1px solid gray;box-sizing: border-box;top: 0;bottom: 0;left: 50%;z-index: -1;}#sk-container-id-2 div.sk-parallel-item {display: flex;flex-direction: column;z-index: 1;position: relative;background-color: white;}#sk-container-id-2 div.sk-parallel-item:first-child::after {align-self: flex-end;width: 50%;}#sk-container-id-2 div.sk-parallel-item:last-child::after {align-self: flex-start;width: 50%;}#sk-container-id-2 div.sk-parallel-item:only-child::after {width: 0;}#sk-container-id-2 div.sk-dashed-wrapped {border: 1px dashed gray;margin: 0 0.4em 0.5em 0.4em;box-sizing: border-box;padding-bottom: 0.4em;background-color: white;}#sk-container-id-2 div.sk-label label {font-family: monospace;font-weight: bold;display: inline-block;line-height: 1.2em;}#sk-container-id-2 div.sk-label-container {text-align: center;}#sk-container-id-2 div.sk-container {/* jupyter's `normalize.less` sets `[hidden] { display: none; }` but bootstrap.min.css set `[hidden] { display: none !important; }` so we also need the `!important` here to be able to override the default hidden behavior on the sphinx rendered scikit-learn.org. See: https://github.com/scikit-learn/scikit-learn/issues/21755 */display: inline-block !important;position: relative;}#sk-container-id-2 div.sk-text-repr-fallback {display: none;}</style><div id=\"sk-container-id-2\" class=\"sk-top-container\"><div class=\"sk-text-repr-fallback\"><pre>DecisionTreeClassifier(class_weight=&#x27;balanced&#x27;, criterion=&#x27;entropy&#x27;)</pre><b>In a Jupyter environment, please rerun this cell to show the HTML representation or trust the notebook. <br />On GitHub, the HTML representation is unable to render, please try loading this page with nbviewer.org.</b></div><div class=\"sk-container\" hidden><div class=\"sk-item\"><div class=\"sk-estimator sk-toggleable\"><input class=\"sk-toggleable__control sk-hidden--visually\" id=\"sk-estimator-id-2\" type=\"checkbox\" checked><label for=\"sk-estimator-id-2\" class=\"sk-toggleable__label sk-toggleable__label-arrow\">DecisionTreeClassifier</label><div class=\"sk-toggleable__content\"><pre>DecisionTreeClassifier(class_weight=&#x27;balanced&#x27;, criterion=&#x27;entropy&#x27;)</pre></div></div></div></div></div>"
      ],
      "text/plain": [
       "DecisionTreeClassifier(class_weight='balanced', criterion='entropy')"
      ]
     },
     "execution_count": 33,
     "metadata": {},
     "output_type": "execute_result"
    }
   ],
   "source": [
    "#Decision Tree classifier\n",
    "clf = DecisionTreeClassifier(criterion='entropy',class_weight='balanced')\n",
    "#Fit the model\n",
    "clf.fit(X_train, y_train)"
   ]
  },
  {
   "cell_type": "code",
   "execution_count": 34,
   "id": "6fd2e8ec-f9b3-47a8-80d3-29d612f7dd4e",
   "metadata": {},
   "outputs": [],
   "source": [
    "y_preds_test2 = clf.predict(X_test)\n"
   ]
  },
  {
   "cell_type": "code",
   "execution_count": 35,
   "id": "002ab2e8-0989-4a0d-807b-38bca42aa600",
   "metadata": {},
   "outputs": [
    {
     "name": "stdout",
     "output_type": "stream",
     "text": [
      "              precision    recall  f1-score   support\n",
      "\n",
      "Not Arrested       0.95      0.42      0.59     11162\n",
      "    Arrested       0.16      0.83      0.26      1435\n",
      "\n",
      "    accuracy                           0.47     12597\n",
      "   macro avg       0.55      0.63      0.42     12597\n",
      "weighted avg       0.86      0.47      0.55     12597\n",
      "\n"
     ]
    }
   ],
   "source": [
    "#Overview of the performance of the model\n",
    "report = classification_report(y_test, y_preds_test2, target_names=['Not Arrested', 'Arrested'])\n",
    "print(report)"
   ]
  },
  {
   "cell_type": "code",
   "execution_count": 68,
   "id": "1bc8d0cf-4516-4bba-aa02-9177dbadc6e8",
   "metadata": {},
   "outputs": [
    {
     "data": {
      "text/plain": [
       "'\\nThe precision for Not arrested is 0.95, which shows it is also very good at identifying Not Arrested cases but has issue swith Arrested.\\nThe recall for arrested is high at 0.83 so it gets the arrested cases well also.\\nHowever the overall Accuracy is also low at 0.47, meaning only a few predictions actually match the actual outcomes.\\n'"
      ]
     },
     "execution_count": 68,
     "metadata": {},
     "output_type": "execute_result"
    }
   ],
   "source": [
    "'''\n",
    "The precision for Not arrested is 0.95, which shows it is also very good at identifying Not Arrested cases but has issue swith Arrested.\n",
    "The recall for arrested is high at 0.83 so it gets the arrested cases well also.\n",
    "However the overall Accuracy is also low at 0.47, meaning only a few predictions actually match the actual outcomes.\n",
    "'''"
   ]
  },
  {
   "cell_type": "code",
   "execution_count": 36,
   "id": "b5d73535-46ed-45fc-88ec-3f92469f643f",
   "metadata": {},
   "outputs": [
    {
     "data": {
      "image/png": "[encoded data removed]",
      "text/plain": [
       "<Figure size 600x400 with 2 Axes>"
      ]
     },
     "metadata": {},
     "output_type": "display_data"
    }
   ],
   "source": [
    "# Created a confusion matrix to look at the results\n",
    "cm = confusion_matrix(y_test, y_preds_test2)\n",
    "\n",
    "plt.figure(figsize=(6,4))\n",
    "sns.heatmap(cm, annot=True, fmt='d', cmap='Blues', xticklabels=['Not Arrested', 'Arrested'], yticklabels=['Not Arrested', 'Arrested'])\n",
    "plt.xlabel('Predicted')\n",
    "plt.ylabel('Actual')\n",
    "plt.title('Confusion Matrix')\n",
    "plt.show()"
   ]
  },
  {
   "cell_type": "markdown",
   "id": "f71c6da8-04fe-4f00-8bcd-f593633cc25b",
   "metadata": {},
   "source": [
    "## 5. Evaluation\n"
   ]
  },
  {
   "cell_type": "markdown",
   "id": "4447c54a-addd-4a41-91c0-e449815ce6cf",
   "metadata": {},
   "source": [
    "Overview of take aways and conclusions "
   ]
  },
  {
   "cell_type": "markdown",
   "id": "9e45905a-56f2-42e2-af2d-faab1628216e",
   "metadata": {},
   "source": [
    "- The data was highly imbalanced but considering how this is based, on arrests in the Chicago area and the nature of police work it is not considered abnormal to have a large number of Not Arrested in favour of Arrested.\n",
    "\n",
    "- The aim was to be able to accurately predict an arrest when faced with a terry stop and the model that did this is the Logistic Regresstion once the imbalance was addressed.\n",
    "\n",
    "- Both matrix show simiar results with no False negatives and True Positives. This means all people that were actually not arrested were predicted well, but the number of people that were actually not arrested when infact they were was also high. Very little true arrests were predicted. This means that both Type 1 and type 11 errors were found."
   ]
  },
  {
   "cell_type": "code",
   "execution_count": null,
   "id": "08e5dcd9-0ecc-4f25-9380-ceb3cfcaf993",
   "metadata": {},
   "outputs": [],
   "source": []
  }
 ],
 "metadata": {
  "kernelspec": {
   "display_name": "learn-env",
   "language": "python",
   "name": "learn-env"
  },
  "language_info": {
   "codemirror_mode": {
    "name": "ipython",
    "version": 3
   },
   "file_extension": ".py",
   "mimetype": "text/x-python",
   "name": "python",
   "nbconvert_exporter": "python",
   "pygments_lexer": "ipython3",
   "version": "3.11.7"
  }
 },
 "nbformat": 4,
 "nbformat_minor": 5
}
